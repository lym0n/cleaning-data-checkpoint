{
 "cells": [
  {
   "cell_type": "markdown",
   "metadata": {
    "azdata_cell_guid": "26037d32-2047-4157-81ef-595916bd66a0"
   },
   "source": [
    "# Checkpoint Three: Cleaning Data\n",
    "\n",
    "Now you are ready to clean your data. Before starting coding, provide the link to your dataset below.\n",
    "\n",
    "My dataset:https://www.kaggle.com/datasets/robertonacu/tmdb-kdramas-2022?select=networks.csv\n",
    "\n",
    "Import the necessary libraries and create your dataframe(s)."
   ]
  },
  {
   "cell_type": "code",
   "execution_count": 2,
   "metadata": {
    "azdata_cell_guid": "e8adef8e-d0f2-4640-a179-5997f11e82ca"
   },
   "outputs": [],
   "source": [
    "#import needed libraires with aliases\n",
    "import pandas as pd\n",
    "import numpy as np\n",
    "import seaborn as sns\n",
    "import matplotlib.pyplot as plt\n",
    "import matplotlib.mlab as mlab\n",
    "import matplotlib\n",
    "plt.style.use('ggplot')\n",
    "from matplotlib.pyplot import figure\n",
    "\n",
    "# Again, I will approach the 5 datasets individually for cleaning as I did for EDA.\n",
    "    \n",
    "# read in and name the 5 datasets\n",
    "series = pd.read_csv(\"series.csv\")\n",
    "genres = pd.read_csv(\"genres.csv\")\n",
    "networks = pd.read_csv(\"networks.csv\")\n",
    "people = pd.read_csv(\"people.csv\")\n",
    "production_companies = pd.read_csv(\"production_companies.csv\")\n"
   ]
  },
  {
   "cell_type": "markdown",
   "metadata": {
    "azdata_cell_guid": "e172475a-c4ee-414a-8367-9965355dbba6"
   },
   "source": [
    "## Missing Data\n",
    "\n",
    "Test your dataset for missing data and handle it as needed. Make notes in the form of code comments as to your thought process."
   ]
  },
  {
   "cell_type": "markdown",
   "metadata": {
    "azdata_cell_guid": "e172475a-c4ee-414a-8367-9965355dbba6"
   },
   "source": [
    "### Series"
   ]
  },
  {
   "cell_type": "code",
   "execution_count": 26,
   "metadata": {},
   "outputs": [
    {
     "data": {
      "text/plain": [
       "(1514, 22)"
      ]
     },
     "execution_count": 26,
     "metadata": {},
     "output_type": "execute_result"
    }
   ],
   "source": [
    "series.shape"
   ]
  },
  {
   "cell_type": "code",
   "execution_count": 28,
   "metadata": {},
   "outputs": [
    {
     "data": {
      "text/plain": [
       "tmdb_id                        0\n",
       "name                           0\n",
       "original_name                  0\n",
       "keywords                     542\n",
       "airing_date                   64\n",
       "poster_img_url                94\n",
       "background_img_url           332\n",
       "directors_ids               1350\n",
       "cast_ids                      40\n",
       "genres_ids                     0\n",
       "number_of_seasons              4\n",
       "number_of_episodes            13\n",
       "episode_run_time             220\n",
       "synopsis                      78\n",
       "popularity                     0\n",
       "average_rating               387\n",
       "rating_count                 387\n",
       "next_episode_to_air         1478\n",
       "next_episode_air_date       1478\n",
       "origin_country                46\n",
       "networks_ids                 205\n",
       "production_companies_ids     608\n",
       "dtype: int64"
      ]
     },
     "execution_count": 28,
     "metadata": {},
     "output_type": "execute_result"
    }
   ],
   "source": [
    "series.isnull().sum()\n",
    "# keywords is missing a lot but I like it so am going to keep it...i think\n",
    "# urls, director ids and production company ids can go because they are missing so much\n",
    "# the episode air date columns are missing alot because its not applicable (these shows most likely have already ended. remember, a lot of shows end after one season. So if it aired before 2022 its most likely over. Also this data was complied in __? so it may be out of date depending on when you're reading this)"
   ]
  },
  {
   "cell_type": "code",
   "execution_count": 4,
   "metadata": {
    "scrolled": true
   },
   "outputs": [
    {
     "name": "stdout",
     "output_type": "stream",
     "text": [
      "tmdb_id - 0%\n",
      "name - 0%\n",
      "original_name - 0%\n",
      "keywords - 36%\n",
      "airing_date - 4%\n",
      "poster_img_url - 6%\n",
      "background_img_url - 22%\n",
      "directors_ids - 89%\n",
      "cast_ids - 3%\n",
      "genres_ids - 0%\n",
      "number_of_seasons - 0%\n",
      "number_of_episodes - 1%\n",
      "episode_run_time - 15%\n",
      "synopsis - 5%\n",
      "popularity - 0%\n",
      "average_rating - 26%\n",
      "rating_count - 26%\n",
      "next_episode_to_air - 98%\n",
      "next_episode_air_date - 98%\n",
      "origin_country - 3%\n",
      "networks_ids - 14%\n",
      "production_companies_ids - 40%\n"
     ]
    }
   ],
   "source": [
    "# using a missing data percentage list because with such large total numbers it can be hard to eyeball how significant a missin gquantity is overall \n",
    "# i didn't notice before that 3% of cast ids are missing. its low if it was something else, but if I'm \n",
    "    # basing my business issue on cast then do I need data/columns where there is no cast id?\n",
    "\n",
    "for col in series.columns:\n",
    "    pct_missing = np.mean(series[col].isnull())\n",
    "    print('{} - {}%'.format(col, round(pct_missing*100)))"
   ]
  },
  {
   "cell_type": "code",
   "execution_count": null,
   "metadata": {},
   "outputs": [],
   "source": [
    "# I want to get rid of 3% records that don't have values for cast_ids but i don't recall how \n",
    "# I am tempted to get rid of columns missing 20% or more but my curiosity of links\n",
    "    #between keywords, average_rating, and next_episode_air_date and how they might \n",
    "    #correlate with popularity make me want to keep them"
   ]
  },
  {
   "cell_type": "code",
   "execution_count": null,
   "metadata": {},
   "outputs": [],
   "source": []
  },
  {
   "cell_type": "markdown",
   "metadata": {
    "azdata_cell_guid": "e172475a-c4ee-414a-8367-9965355dbba6"
   },
   "source": [
    "### Genres --"
   ]
  },
  {
   "cell_type": "code",
   "execution_count": 5,
   "metadata": {},
   "outputs": [
    {
     "data": {
      "text/plain": [
       "tmdb_id    0\n",
       "name       0\n",
       "dtype: int64"
      ]
     },
     "execution_count": 5,
     "metadata": {},
     "output_type": "execute_result"
    }
   ],
   "source": [
    "#no missing data here!\n",
    "genres.isnull().sum()"
   ]
  },
  {
   "cell_type": "markdown",
   "metadata": {
    "azdata_cell_guid": "e172475a-c4ee-414a-8367-9965355dbba6"
   },
   "source": [
    "### Networks ---"
   ]
  },
  {
   "cell_type": "code",
   "execution_count": 8,
   "metadata": {},
   "outputs": [
    {
     "data": {
      "text/plain": [
       "tmdb_id            0\n",
       "name               0\n",
       "headquarters      29\n",
       "homepage          14\n",
       "logo_path         15\n",
       "origin_country    14\n",
       "dtype: int64"
      ]
     },
     "execution_count": 8,
     "metadata": {},
     "output_type": "execute_result"
    }
   ],
   "source": [
    "#not a lot of values in this dataset so I'm looking at percentages to see how big\n",
    "    #of a deal it is to isnull sums like 29 and 14 from a column\n",
    "    #since this is a small set, missing an entry for 29 records is a big impact\n",
    "    #I'll only keep the first two columns from this set\n",
    "    \n",
    "#I don't need to take any action at this point but will drop several columns in the Irrelevanat data section\n",
    "networks.isnull().sum()"
   ]
  },
  {
   "cell_type": "code",
   "execution_count": 9,
   "metadata": {},
   "outputs": [
    {
     "name": "stdout",
     "output_type": "stream",
     "text": [
      "tmdb_id - 0%\n",
      "name - 0%\n",
      "headquarters - 38%\n",
      "homepage - 18%\n",
      "logo_path - 19%\n",
      "origin_country - 18%\n"
     ]
    }
   ],
   "source": [
    "for col in networks.columns:\n",
    "    pct_missing = np.mean(networks[col].isnull())\n",
    "    print('{} - {}%'.format(col, round(pct_missing*100)))"
   ]
  },
  {
   "cell_type": "code",
   "execution_count": 16,
   "metadata": {},
   "outputs": [
    {
     "data": {
      "text/plain": [
       "Index(['tmdb_id', 'name', 'headquarters', 'homepage', 'logo_path',\n",
       "       'origin_country'],\n",
       "      dtype='object')"
      ]
     },
     "execution_count": 16,
     "metadata": {},
     "output_type": "execute_result"
    }
   ],
   "source": [
    "networks.columns"
   ]
  },
  {
   "cell_type": "code",
   "execution_count": null,
   "metadata": {},
   "outputs": [],
   "source": []
  },
  {
   "cell_type": "markdown",
   "metadata": {
    "azdata_cell_guid": "e172475a-c4ee-414a-8367-9965355dbba6"
   },
   "source": [
    "### People ----"
   ]
  },
  {
   "cell_type": "code",
   "execution_count": null,
   "metadata": {
    "azdata_cell_guid": "e1dc66ef-e471-4c27-92e7-ee878c106eba"
   },
   "outputs": [],
   "source": [
    "people"
   ]
  },
  {
   "cell_type": "code",
   "execution_count": null,
   "metadata": {},
   "outputs": [],
   "source": []
  },
  {
   "cell_type": "code",
   "execution_count": null,
   "metadata": {},
   "outputs": [],
   "source": []
  },
  {
   "cell_type": "code",
   "execution_count": null,
   "metadata": {},
   "outputs": [],
   "source": []
  },
  {
   "cell_type": "code",
   "execution_count": null,
   "metadata": {},
   "outputs": [],
   "source": []
  },
  {
   "cell_type": "markdown",
   "metadata": {
    "azdata_cell_guid": "1233f543-e9a0-4f78-96f5-d7536554102e"
   },
   "source": [
    "## Irregular Data\n",
    "\n",
    "Detect outliers in your dataset and handle them as needed. Use code comments to make notes about your thought process."
   ]
  },
  {
   "cell_type": "markdown",
   "metadata": {
    "azdata_cell_guid": "e172475a-c4ee-414a-8367-9965355dbba6"
   },
   "source": [
    "### Series"
   ]
  },
  {
   "cell_type": "code",
   "execution_count": 4,
   "metadata": {
    "azdata_cell_guid": "efed50ae-16f0-471d-98e2-632553a74c12"
   },
   "outputs": [
    {
     "data": {
      "text/html": [
       "<div>\n",
       "<style scoped>\n",
       "    .dataframe tbody tr th:only-of-type {\n",
       "        vertical-align: middle;\n",
       "    }\n",
       "\n",
       "    .dataframe tbody tr th {\n",
       "        vertical-align: top;\n",
       "    }\n",
       "\n",
       "    .dataframe thead th {\n",
       "        text-align: right;\n",
       "    }\n",
       "</style>\n",
       "<table border=\"1\" class=\"dataframe\">\n",
       "  <thead>\n",
       "    <tr style=\"text-align: right;\">\n",
       "      <th></th>\n",
       "      <th>tmdb_id</th>\n",
       "      <th>number_of_seasons</th>\n",
       "      <th>number_of_episodes</th>\n",
       "      <th>episode_run_time</th>\n",
       "      <th>popularity</th>\n",
       "      <th>average_rating</th>\n",
       "      <th>rating_count</th>\n",
       "      <th>next_episode_to_air</th>\n",
       "    </tr>\n",
       "  </thead>\n",
       "  <tbody>\n",
       "    <tr>\n",
       "      <th>count</th>\n",
       "      <td>1514.000000</td>\n",
       "      <td>1510.000000</td>\n",
       "      <td>1501.000000</td>\n",
       "      <td>1294.000000</td>\n",
       "      <td>1514.000000</td>\n",
       "      <td>1127.000000</td>\n",
       "      <td>1127.000000</td>\n",
       "      <td>36.000000</td>\n",
       "    </tr>\n",
       "    <tr>\n",
       "      <th>mean</th>\n",
       "      <td>85302.124835</td>\n",
       "      <td>1.076159</td>\n",
       "      <td>26.246502</td>\n",
       "      <td>53.762751</td>\n",
       "      <td>10.598843</td>\n",
       "      <td>7.509714</td>\n",
       "      <td>51.498669</td>\n",
       "      <td>7.416667</td>\n",
       "    </tr>\n",
       "    <tr>\n",
       "      <th>std</th>\n",
       "      <td>49546.561615</td>\n",
       "      <td>0.527722</td>\n",
       "      <td>34.041101</td>\n",
       "      <td>54.882509</td>\n",
       "      <td>26.119971</td>\n",
       "      <td>1.308382</td>\n",
       "      <td>388.931765</td>\n",
       "      <td>12.248324</td>\n",
       "    </tr>\n",
       "    <tr>\n",
       "      <th>min</th>\n",
       "      <td>333.000000</td>\n",
       "      <td>1.000000</td>\n",
       "      <td>1.000000</td>\n",
       "      <td>1.000000</td>\n",
       "      <td>0.600000</td>\n",
       "      <td>0.500000</td>\n",
       "      <td>1.000000</td>\n",
       "      <td>1.000000</td>\n",
       "    </tr>\n",
       "    <tr>\n",
       "      <th>25%</th>\n",
       "      <td>50597.000000</td>\n",
       "      <td>1.000000</td>\n",
       "      <td>11.000000</td>\n",
       "      <td>35.000000</td>\n",
       "      <td>2.027000</td>\n",
       "      <td>7.000000</td>\n",
       "      <td>2.000000</td>\n",
       "      <td>1.000000</td>\n",
       "    </tr>\n",
       "    <tr>\n",
       "      <th>50%</th>\n",
       "      <td>75525.000000</td>\n",
       "      <td>1.000000</td>\n",
       "      <td>16.000000</td>\n",
       "      <td>60.000000</td>\n",
       "      <td>4.942500</td>\n",
       "      <td>7.800000</td>\n",
       "      <td>5.000000</td>\n",
       "      <td>2.000000</td>\n",
       "    </tr>\n",
       "    <tr>\n",
       "      <th>75%</th>\n",
       "      <td>113570.500000</td>\n",
       "      <td>1.000000</td>\n",
       "      <td>24.000000</td>\n",
       "      <td>65.000000</td>\n",
       "      <td>10.140250</td>\n",
       "      <td>8.300000</td>\n",
       "      <td>15.000000</td>\n",
       "      <td>7.500000</td>\n",
       "    </tr>\n",
       "    <tr>\n",
       "      <th>max</th>\n",
       "      <td>214406.000000</td>\n",
       "      <td>12.000000</td>\n",
       "      <td>476.000000</td>\n",
       "      <td>1585.000000</td>\n",
       "      <td>414.151000</td>\n",
       "      <td>10.000000</td>\n",
       "      <td>11835.000000</td>\n",
       "      <td>63.000000</td>\n",
       "    </tr>\n",
       "  </tbody>\n",
       "</table>\n",
       "</div>"
      ],
      "text/plain": [
       "             tmdb_id  number_of_seasons  number_of_episodes  episode_run_time  \\\n",
       "count    1514.000000        1510.000000         1501.000000       1294.000000   \n",
       "mean    85302.124835           1.076159           26.246502         53.762751   \n",
       "std     49546.561615           0.527722           34.041101         54.882509   \n",
       "min       333.000000           1.000000            1.000000          1.000000   \n",
       "25%     50597.000000           1.000000           11.000000         35.000000   \n",
       "50%     75525.000000           1.000000           16.000000         60.000000   \n",
       "75%    113570.500000           1.000000           24.000000         65.000000   \n",
       "max    214406.000000          12.000000          476.000000       1585.000000   \n",
       "\n",
       "        popularity  average_rating  rating_count  next_episode_to_air  \n",
       "count  1514.000000     1127.000000   1127.000000            36.000000  \n",
       "mean     10.598843        7.509714     51.498669             7.416667  \n",
       "std      26.119971        1.308382    388.931765            12.248324  \n",
       "min       0.600000        0.500000      1.000000             1.000000  \n",
       "25%       2.027000        7.000000      2.000000             1.000000  \n",
       "50%       4.942500        7.800000      5.000000             2.000000  \n",
       "75%      10.140250        8.300000     15.000000             7.500000  \n",
       "max     414.151000       10.000000  11835.000000            63.000000  "
      ]
     },
     "execution_count": 4,
     "metadata": {},
     "output_type": "execute_result"
    }
   ],
   "source": [
    "series.describe()\n",
    "\n",
    "#1585 for max episode run time seems extreme and like a mistake unless its some show that followed people over the course of a day AND broadcast or uploaded it? I'll want to find this instance in cleaning checkpoint\n",
    "# number of seasons looks accurate just from my knoweledge of watching shows, I noticed that a second season is rare, nearly no-existant\n",
    "#1 min run time and 1 episode both sound suspicious. i'll have to find which show and verify its not a mistake. from my experience watching, I can say that most having an avg run time of over an hour sounds about right!"
   ]
  },
  {
   "cell_type": "code",
   "execution_count": 10,
   "metadata": {},
   "outputs": [
    {
     "data": {
      "text/plain": [
       "array([[<AxesSubplot:title={'center':'tmdb_id'}>,\n",
       "        <AxesSubplot:title={'center':'number_of_seasons'}>,\n",
       "        <AxesSubplot:title={'center':'number_of_episodes'}>],\n",
       "       [<AxesSubplot:title={'center':'episode_run_time'}>,\n",
       "        <AxesSubplot:title={'center':'popularity'}>,\n",
       "        <AxesSubplot:title={'center':'average_rating'}>],\n",
       "       [<AxesSubplot:title={'center':'rating_count'}>,\n",
       "        <AxesSubplot:title={'center':'next_episode_to_air'}>,\n",
       "        <AxesSubplot:>]], dtype=object)"
      ]
     },
     "execution_count": 10,
     "metadata": {},
     "output_type": "execute_result"
    },
    {
     "data": {
      "image/png": "[encoded data removed]",
      "text/plain": [
       "<Figure size 640x480 with 9 Axes>"
      ]
     },
     "metadata": {},
     "output_type": "display_data"
    }
   ],
   "source": [
    "series.hist(bins=100)\n"
   ]
  },
  {
   "cell_type": "code",
   "execution_count": 12,
   "metadata": {},
   "outputs": [
    {
     "data": {
      "text/plain": [
       "<AxesSubplot:>"
      ]
     },
     "execution_count": 12,
     "metadata": {},
     "output_type": "execute_result"
    },
    {
     "data": {
      "image/png": "[encoded data removed]",
      "text/plain": [
       "<Figure size 640x480 with 1 Axes>"
      ]
     },
     "metadata": {},
     "output_type": "display_data"
    }
   ],
   "source": [
    "series['popularity'].hist(bins=100)"
   ]
  },
  {
   "cell_type": "code",
   "execution_count": 14,
   "metadata": {},
   "outputs": [
    {
     "data": {
      "text/plain": [
       "<AxesSubplot:>"
      ]
     },
     "execution_count": 14,
     "metadata": {},
     "output_type": "execute_result"
    },
    {
     "data": {
      "image/png": "[encoded data removed]",
      "text/plain": [
       "<Figure size 640x480 with 1 Axes>"
      ]
     },
     "metadata": {},
     "output_type": "display_data"
    }
   ],
   "source": [
    "series['average_rating'].value_counts().plot.bar()\n"
   ]
  },
  {
   "cell_type": "code",
   "execution_count": 27,
   "metadata": {},
   "outputs": [
    {
     "data": {
      "text/plain": [
       "<AxesSubplot:>"
      ]
     },
     "execution_count": 27,
     "metadata": {},
     "output_type": "execute_result"
    },
    {
     "data": {
      "image/png": "[encoded data removed]",
      "text/plain": [
       "<Figure size 640x480 with 1 Axes>"
      ]
     },
     "metadata": {},
     "output_type": "display_data"
    }
   ],
   "source": [
    "series.boxplot(column=['popularity'])\n"
   ]
  },
  {
   "cell_type": "code",
   "execution_count": null,
   "metadata": {},
   "outputs": [],
   "source": []
  },
  {
   "cell_type": "markdown",
   "metadata": {
    "azdata_cell_guid": "e172475a-c4ee-414a-8367-9965355dbba6"
   },
   "source": [
    "### Genres --"
   ]
  },
  {
   "cell_type": "code",
   "execution_count": null,
   "metadata": {},
   "outputs": [],
   "source": []
  },
  {
   "cell_type": "markdown",
   "metadata": {},
   "source": [
    "### Networks ---"
   ]
  },
  {
   "cell_type": "code",
   "execution_count": 24,
   "metadata": {},
   "outputs": [
    {
     "data": {
      "text/plain": [
       "array([[<AxesSubplot:title={'center':'tmdb_id'}>]], dtype=object)"
      ]
     },
     "execution_count": 24,
     "metadata": {},
     "output_type": "execute_result"
    },
    {
     "data": {
      "image/png": "[encoded data removed]",
      "text/plain": [
       "<Figure size 640x480 with 1 Axes>"
      ]
     },
     "metadata": {},
     "output_type": "display_data"
    }
   ],
   "source": [
    "#nothing irregular found\n",
    "networks.hist(bins=100)\n"
   ]
  },
  {
   "cell_type": "code",
   "execution_count": null,
   "metadata": {},
   "outputs": [],
   "source": []
  },
  {
   "cell_type": "code",
   "execution_count": null,
   "metadata": {},
   "outputs": [],
   "source": []
  },
  {
   "cell_type": "markdown",
   "metadata": {
    "azdata_cell_guid": "6f5b8ee0-bab3-44bc-958a-67d1e4c0407f"
   },
   "source": [
    "## Unnecessary Data\n",
    "\n",
    "Look for the different types of unnecessary data in your dataset and address it as needed. Make sure to use code comments to illustrate your thought process."
   ]
  },
  {
   "cell_type": "markdown",
   "metadata": {
    "azdata_cell_guid": "e172475a-c4ee-414a-8367-9965355dbba6"
   },
   "source": [
    "### Series"
   ]
  },
  {
   "cell_type": "code",
   "execution_count": 8,
   "metadata": {
    "azdata_cell_guid": "e788a239-2fbf-41de-9bd3-19e52e3b187c"
   },
   "outputs": [
    {
     "data": {
      "text/plain": [
       "Index(['tmdb_id', 'name', 'original_name', 'keywords', 'airing_date',\n",
       "       'poster_img_url', 'background_img_url', 'directors_ids', 'cast_ids',\n",
       "       'genres_ids', 'number_of_seasons', 'number_of_episodes',\n",
       "       'episode_run_time', 'synopsis', 'popularity', 'average_rating',\n",
       "       'rating_count', 'next_episode_to_air', 'next_episode_air_date',\n",
       "       'origin_country', 'networks_ids', 'production_companies_ids'],\n",
       "      dtype='object')"
      ]
     },
     "execution_count": 8,
     "metadata": {},
     "output_type": "execute_result"
    }
   ],
   "source": [
    "series.columns"
   ]
  },
  {
   "cell_type": "markdown",
   "metadata": {},
   "source": [
    "in general, i think all url columns can go. I don't need them. Unless I can use them some cool way to grab a poster or actor headshot in tableua somehow. Definitely don't need websites\n",
    "\n",
    "These columns can go:\n",
    "\n",
    "'original_name', 'poster_img_url', 'background_img_url', \n",
    "\n",
    "maybe these: \n",
    "'next_episode_to_air', 'next_episode_air_date',  'production_companies_ids'\n",
    "\n",
    "\n"
   ]
  },
  {
   "cell_type": "code",
   "execution_count": 36,
   "metadata": {},
   "outputs": [],
   "source": [
    "series_df = series[['tmdb_id', 'name', 'keywords', 'airing_date', 'cast_ids',\n",
    "       'genres_ids', 'number_of_seasons', 'number_of_episodes',\n",
    "       'episode_run_time', 'synopsis', 'popularity', 'average_rating',\n",
    "       'rating_count', 'networks_ids']]"
   ]
  },
  {
   "cell_type": "code",
   "execution_count": 37,
   "metadata": {},
   "outputs": [
    {
     "data": {
      "text/plain": [
       "Index(['tmdb_id', 'name', 'keywords', 'airing_date', 'cast_ids', 'genres_ids',\n",
       "       'number_of_seasons', 'number_of_episodes', 'episode_run_time',\n",
       "       'synopsis', 'popularity', 'average_rating', 'rating_count',\n",
       "       'networks_ids'],\n",
       "      dtype='object')"
      ]
     },
     "execution_count": 37,
     "metadata": {},
     "output_type": "execute_result"
    }
   ],
   "source": [
    "series_df.columns"
   ]
  },
  {
   "cell_type": "code",
   "execution_count": 38,
   "metadata": {},
   "outputs": [
    {
     "data": {
      "text/html": [
       "<div>\n",
       "<style scoped>\n",
       "    .dataframe tbody tr th:only-of-type {\n",
       "        vertical-align: middle;\n",
       "    }\n",
       "\n",
       "    .dataframe tbody tr th {\n",
       "        vertical-align: top;\n",
       "    }\n",
       "\n",
       "    .dataframe thead th {\n",
       "        text-align: right;\n",
       "    }\n",
       "</style>\n",
       "<table border=\"1\" class=\"dataframe\">\n",
       "  <thead>\n",
       "    <tr style=\"text-align: right;\">\n",
       "      <th></th>\n",
       "      <th>tmdb_id</th>\n",
       "      <th>name</th>\n",
       "      <th>keywords</th>\n",
       "      <th>airing_date</th>\n",
       "      <th>cast_ids</th>\n",
       "      <th>genres_ids</th>\n",
       "      <th>number_of_seasons</th>\n",
       "      <th>number_of_episodes</th>\n",
       "      <th>episode_run_time</th>\n",
       "      <th>synopsis</th>\n",
       "      <th>popularity</th>\n",
       "      <th>average_rating</th>\n",
       "      <th>rating_count</th>\n",
       "      <th>networks_ids</th>\n",
       "    </tr>\n",
       "  </thead>\n",
       "  <tbody>\n",
       "    <tr>\n",
       "      <th>0</th>\n",
       "      <td>208249</td>\n",
       "      <td>Game of Witches</td>\n",
       "      <td>NaN</td>\n",
       "      <td>2022-10-11</td>\n",
       "      <td>582555, 2117665, 1066220</td>\n",
       "      <td>18, 80, 9648</td>\n",
       "      <td>1.0</td>\n",
       "      <td>29.0</td>\n",
       "      <td>30.0</td>\n",
       "      <td>Yu Kyung is a successful woman who is proficie...</td>\n",
       "      <td>414.151</td>\n",
       "      <td>NaN</td>\n",
       "      <td>NaN</td>\n",
       "      <td>97</td>\n",
       "    </tr>\n",
       "    <tr>\n",
       "      <th>1</th>\n",
       "      <td>99966</td>\n",
       "      <td>All of Us Are Dead</td>\n",
       "      <td>high school, bullying, based on comic, horror,...</td>\n",
       "      <td>2022-01-28</td>\n",
       "      <td>2125084, 1493898, 2185341, 2074587, 2402531, 1...</td>\n",
       "      <td>10759, 18, 10765</td>\n",
       "      <td>2.0</td>\n",
       "      <td>12.0</td>\n",
       "      <td>65.0</td>\n",
       "      <td>A high school becomes ground zero for a zombie...</td>\n",
       "      <td>398.111</td>\n",
       "      <td>8.421</td>\n",
       "      <td>2750.0</td>\n",
       "      <td>213</td>\n",
       "    </tr>\n",
       "    <tr>\n",
       "      <th>2</th>\n",
       "      <td>112888</td>\n",
       "      <td>True Beauty</td>\n",
       "      <td>high school, beauty, makeover, hidden identity...</td>\n",
       "      <td>2020-12-09</td>\n",
       "      <td>1252016, 1604826, 2333298, 2175208, 1108037, 1...</td>\n",
       "      <td>35, 18</td>\n",
       "      <td>1.0</td>\n",
       "      <td>16.0</td>\n",
       "      <td>75.0</td>\n",
       "      <td>Lim Ju-kyung is a high school student. Since s...</td>\n",
       "      <td>396.708</td>\n",
       "      <td>8.524</td>\n",
       "      <td>1156.0</td>\n",
       "      <td>NaN</td>\n",
       "    </tr>\n",
       "    <tr>\n",
       "      <th>3</th>\n",
       "      <td>93405</td>\n",
       "      <td>Squid Game</td>\n",
       "      <td>secret organization, challenge, survival, fict...</td>\n",
       "      <td>2021-09-17</td>\n",
       "      <td>73249, 1593672, 3194501, 1557181, 1048070, 191...</td>\n",
       "      <td>10759, 9648, 18</td>\n",
       "      <td>2.0</td>\n",
       "      <td>9.0</td>\n",
       "      <td>54.0</td>\n",
       "      <td>Hundreds of cash-strapped players accept a str...</td>\n",
       "      <td>323.945</td>\n",
       "      <td>7.835</td>\n",
       "      <td>11835.0</td>\n",
       "      <td>213</td>\n",
       "    </tr>\n",
       "    <tr>\n",
       "      <th>4</th>\n",
       "      <td>211174</td>\n",
       "      <td>Vengeance of the Bride</td>\n",
       "      <td>revenge, daughter–in–law, enemy, woman</td>\n",
       "      <td>2022-10-10</td>\n",
       "      <td>1568455, 1368061, 1940498, 1233712, 139509, 17...</td>\n",
       "      <td>18, 9648, 10751</td>\n",
       "      <td>1.0</td>\n",
       "      <td>30.0</td>\n",
       "      <td>40.0</td>\n",
       "      <td>The story of a woman who becomes the daughter-...</td>\n",
       "      <td>302.588</td>\n",
       "      <td>NaN</td>\n",
       "      <td>NaN</td>\n",
       "      <td>342</td>\n",
       "    </tr>\n",
       "    <tr>\n",
       "      <th>5</th>\n",
       "      <td>136699</td>\n",
       "      <td>Glitch</td>\n",
       "      <td>friendship, investigation, ufo, miniseries, su...</td>\n",
       "      <td>2022-10-07</td>\n",
       "      <td>2067860, 1523043, 1418580, 2239782, 150697, 17...</td>\n",
       "      <td>18, 35, 9648, 10765</td>\n",
       "      <td>1.0</td>\n",
       "      <td>10.0</td>\n",
       "      <td>54.0</td>\n",
       "      <td>A young woman joins forces with a UFO enthusia...</td>\n",
       "      <td>223.442</td>\n",
       "      <td>7.674</td>\n",
       "      <td>43.0</td>\n",
       "      <td>213</td>\n",
       "    </tr>\n",
       "    <tr>\n",
       "      <th>6</th>\n",
       "      <td>112836</td>\n",
       "      <td>Money Heist: Korea - Joint Economic Area</td>\n",
       "      <td>robbery, bank, remake, money, bank robbery, ho...</td>\n",
       "      <td>2022-06-24</td>\n",
       "      <td>10112, 28662, 1593672, 1937533, 551682, 125760...</td>\n",
       "      <td>10759, 80, 18, 9648</td>\n",
       "      <td>1.0</td>\n",
       "      <td>12.0</td>\n",
       "      <td>NaN</td>\n",
       "      <td>Disguised under the shadows of a mask, a crew ...</td>\n",
       "      <td>202.731</td>\n",
       "      <td>7.886</td>\n",
       "      <td>398.0</td>\n",
       "      <td>213</td>\n",
       "    </tr>\n",
       "    <tr>\n",
       "      <th>7</th>\n",
       "      <td>67915</td>\n",
       "      <td>Goblin</td>\n",
       "      <td>romance, super power, past life, immortal</td>\n",
       "      <td>2016-12-02</td>\n",
       "      <td>150903, 1067849, 1238592, 1254169, 1398345, 12...</td>\n",
       "      <td>18, 10765</td>\n",
       "      <td>1.0</td>\n",
       "      <td>16.0</td>\n",
       "      <td>77.0</td>\n",
       "      <td>In his quest for a bride to break his immortal...</td>\n",
       "      <td>160.914</td>\n",
       "      <td>8.711</td>\n",
       "      <td>2361.0</td>\n",
       "      <td>NaN</td>\n",
       "    </tr>\n",
       "    <tr>\n",
       "      <th>8</th>\n",
       "      <td>197067</td>\n",
       "      <td>Extraordinary Attorney Woo</td>\n",
       "      <td>court case, court, autism, lawyer, courtroom, ...</td>\n",
       "      <td>2022-06-29</td>\n",
       "      <td>1134684, 1565392, 1648169, 1572347, 2720442, 5...</td>\n",
       "      <td>18, 35</td>\n",
       "      <td>1.0</td>\n",
       "      <td>16.0</td>\n",
       "      <td>70.0</td>\n",
       "      <td>Brilliant attorney Woo Young-woo tackles chall...</td>\n",
       "      <td>147.054</td>\n",
       "      <td>8.310</td>\n",
       "      <td>381.0</td>\n",
       "      <td>213, 5841</td>\n",
       "    </tr>\n",
       "    <tr>\n",
       "      <th>9</th>\n",
       "      <td>129473</td>\n",
       "      <td>Young Lady and Gentleman</td>\n",
       "      <td>tutor, family, single father, healing, rich ma...</td>\n",
       "      <td>2021-09-25</td>\n",
       "      <td>1253552, 2752543, 1568455, 1254981, 1487437, 1...</td>\n",
       "      <td>35, 18, 10751</td>\n",
       "      <td>1.0</td>\n",
       "      <td>52.0</td>\n",
       "      <td>70.0</td>\n",
       "      <td>Lee Young Kook is a widower with three childre...</td>\n",
       "      <td>128.825</td>\n",
       "      <td>8.125</td>\n",
       "      <td>8.0</td>\n",
       "      <td>342</td>\n",
       "    </tr>\n",
       "    <tr>\n",
       "      <th>10</th>\n",
       "      <td>154825</td>\n",
       "      <td>Business Proposal</td>\n",
       "      <td>based on novel or book, businessman, fake iden...</td>\n",
       "      <td>2022-02-28</td>\n",
       "      <td>1571598, 1834241, 1565088, 1761412, 1232904, 2...</td>\n",
       "      <td>35, 18</td>\n",
       "      <td>1.0</td>\n",
       "      <td>12.0</td>\n",
       "      <td>60.0</td>\n",
       "      <td>An ordinary office worker disguises herself an...</td>\n",
       "      <td>126.273</td>\n",
       "      <td>8.388</td>\n",
       "      <td>103.0</td>\n",
       "      <td>156, 213</td>\n",
       "    </tr>\n",
       "    <tr>\n",
       "      <th>11</th>\n",
       "      <td>133091</td>\n",
       "      <td>My Sweet Dear</td>\n",
       "      <td>restaurant, rivalry, co-workers relationship, ...</td>\n",
       "      <td>2021-10-21</td>\n",
       "      <td>2658775, 3226942, 3251880, 3281953, 3281954</td>\n",
       "      <td>18</td>\n",
       "      <td>1.0</td>\n",
       "      <td>8.0</td>\n",
       "      <td>15.0</td>\n",
       "      <td>A youthful romance set in a restaurant between...</td>\n",
       "      <td>117.343</td>\n",
       "      <td>4.800</td>\n",
       "      <td>5.0</td>\n",
       "      <td>1390, 1671, 3732</td>\n",
       "    </tr>\n",
       "    <tr>\n",
       "      <th>12</th>\n",
       "      <td>106651</td>\n",
       "      <td>Hellbound</td>\n",
       "      <td>hell, cult, based on cartoon, supernatural cre...</td>\n",
       "      <td>2021-11-19</td>\n",
       "      <td>572225, 232599, 571172, 1916226, 108538, 17930...</td>\n",
       "      <td>18, 80, 10765</td>\n",
       "      <td>2.0</td>\n",
       "      <td>6.0</td>\n",
       "      <td>52.0</td>\n",
       "      <td>Unearthly beings deliver bloody condemnations,...</td>\n",
       "      <td>112.719</td>\n",
       "      <td>7.515</td>\n",
       "      <td>687.0</td>\n",
       "      <td>213</td>\n",
       "    </tr>\n",
       "    <tr>\n",
       "      <th>13</th>\n",
       "      <td>208336</td>\n",
       "      <td>Revenge of Others</td>\n",
       "      <td>revenge</td>\n",
       "      <td>2022-11-09</td>\n",
       "      <td>2256407, 2074587, 1723485, 1257644, 1654414, 2...</td>\n",
       "      <td>18</td>\n",
       "      <td>1.0</td>\n",
       "      <td>12.0</td>\n",
       "      <td>60.0</td>\n",
       "      <td>A boy falls to his death at school, but Ok Cha...</td>\n",
       "      <td>97.551</td>\n",
       "      <td>7.300</td>\n",
       "      <td>3.0</td>\n",
       "      <td>2739</td>\n",
       "    </tr>\n",
       "    <tr>\n",
       "      <th>14</th>\n",
       "      <td>93490</td>\n",
       "      <td>My Country: The New Age</td>\n",
       "      <td>friendship, romance, king, political intrigue ...</td>\n",
       "      <td>2019-10-04</td>\n",
       "      <td>1809986, 1845057, 1374514, 63438, 69080, 42896...</td>\n",
       "      <td>18, 10759</td>\n",
       "      <td>1.0</td>\n",
       "      <td>16.0</td>\n",
       "      <td>70.0</td>\n",
       "      <td>Set during the turbulent time of the fall of G...</td>\n",
       "      <td>96.015</td>\n",
       "      <td>7.600</td>\n",
       "      <td>26.0</td>\n",
       "      <td>213, 885</td>\n",
       "    </tr>\n",
       "    <tr>\n",
       "      <th>15</th>\n",
       "      <td>201146</td>\n",
       "      <td>Love in Contract</td>\n",
       "      <td>NaN</td>\n",
       "      <td>2022-09-21</td>\n",
       "      <td>1234603, 1257601, 1613823, 560070, 3229192, 24...</td>\n",
       "      <td>18, 35</td>\n",
       "      <td>1.0</td>\n",
       "      <td>16.0</td>\n",
       "      <td>67.0</td>\n",
       "      <td>Can marriage be a business? Sang-eun is a sing...</td>\n",
       "      <td>89.479</td>\n",
       "      <td>9.300</td>\n",
       "      <td>6.0</td>\n",
       "      <td>NaN</td>\n",
       "    </tr>\n",
       "    <tr>\n",
       "      <th>16</th>\n",
       "      <td>155226</td>\n",
       "      <td>Big Mouth</td>\n",
       "      <td>greed, investigation, secret organization, fil...</td>\n",
       "      <td>2022-07-29</td>\n",
       "      <td>1095818, 1252045, 2526744, 2736784, 1385609, 2...</td>\n",
       "      <td>9648, 18, 80</td>\n",
       "      <td>1.0</td>\n",
       "      <td>16.0</td>\n",
       "      <td>68.0</td>\n",
       "      <td>A lawyer, caught up in a murder case, becomes ...</td>\n",
       "      <td>86.329</td>\n",
       "      <td>8.200</td>\n",
       "      <td>37.0</td>\n",
       "      <td>97</td>\n",
       "    </tr>\n",
       "    <tr>\n",
       "      <th>17</th>\n",
       "      <td>211239</td>\n",
       "      <td>The Love in Your Eyes</td>\n",
       "      <td>restaurant, daughter–in–law</td>\n",
       "      <td>2022-10-03</td>\n",
       "      <td>132148, 1420819, 2296845</td>\n",
       "      <td>18, 10751</td>\n",
       "      <td>1.0</td>\n",
       "      <td>44.0</td>\n",
       "      <td>30.0</td>\n",
       "      <td>Depicts the second love of a rogue daughter-in...</td>\n",
       "      <td>79.171</td>\n",
       "      <td>NaN</td>\n",
       "      <td>NaN</td>\n",
       "      <td>829</td>\n",
       "    </tr>\n",
       "    <tr>\n",
       "      <th>18</th>\n",
       "      <td>135157</td>\n",
       "      <td>Alchemy of Souls</td>\n",
       "      <td>martial arts, assassin, magic, prince, secret ...</td>\n",
       "      <td>2022-06-18</td>\n",
       "      <td>1879169, 1736364, 2353469, 2791233</td>\n",
       "      <td>18, 10759, 9648, 10765</td>\n",
       "      <td>2.0</td>\n",
       "      <td>30.0</td>\n",
       "      <td>74.0</td>\n",
       "      <td>A powerful sorceress in a blind woman's body e...</td>\n",
       "      <td>66.889</td>\n",
       "      <td>8.693</td>\n",
       "      <td>174.0</td>\n",
       "      <td>NaN</td>\n",
       "    </tr>\n",
       "    <tr>\n",
       "      <th>19</th>\n",
       "      <td>110356</td>\n",
       "      <td>My Name</td>\n",
       "      <td>police, undercover, fight, truth, revenge, mur...</td>\n",
       "      <td>2021-10-15</td>\n",
       "      <td>2112859, 93999, 1591491, 123820, 1615316, 3003834</td>\n",
       "      <td>80, 18, 9648, 10759</td>\n",
       "      <td>1.0</td>\n",
       "      <td>8.0</td>\n",
       "      <td>50.0</td>\n",
       "      <td>Following her father's murder, a revenge-drive...</td>\n",
       "      <td>73.273</td>\n",
       "      <td>8.319</td>\n",
       "      <td>602.0</td>\n",
       "      <td>213</td>\n",
       "    </tr>\n",
       "  </tbody>\n",
       "</table>\n",
       "</div>"
      ],
      "text/plain": [
       "    tmdb_id                                      name  \\\n",
       "0    208249                           Game of Witches   \n",
       "1     99966                        All of Us Are Dead   \n",
       "2    112888                               True Beauty   \n",
       "3     93405                                Squid Game   \n",
       "4    211174                    Vengeance of the Bride   \n",
       "5    136699                                    Glitch   \n",
       "6    112836  Money Heist: Korea - Joint Economic Area   \n",
       "7     67915                                    Goblin   \n",
       "8    197067                Extraordinary Attorney Woo   \n",
       "9    129473                  Young Lady and Gentleman   \n",
       "10   154825                         Business Proposal   \n",
       "11   133091                             My Sweet Dear   \n",
       "12   106651                                 Hellbound   \n",
       "13   208336                         Revenge of Others   \n",
       "14    93490                   My Country: The New Age   \n",
       "15   201146                          Love in Contract   \n",
       "16   155226                                 Big Mouth   \n",
       "17   211239                     The Love in Your Eyes   \n",
       "18   135157                          Alchemy of Souls   \n",
       "19   110356                                   My Name   \n",
       "\n",
       "                                             keywords airing_date  \\\n",
       "0                                                 NaN  2022-10-11   \n",
       "1   high school, bullying, based on comic, horror,...  2022-01-28   \n",
       "2   high school, beauty, makeover, hidden identity...  2020-12-09   \n",
       "3   secret organization, challenge, survival, fict...  2021-09-17   \n",
       "4              revenge, daughter–in–law, enemy, woman  2022-10-10   \n",
       "5   friendship, investigation, ufo, miniseries, su...  2022-10-07   \n",
       "6   robbery, bank, remake, money, bank robbery, ho...  2022-06-24   \n",
       "7           romance, super power, past life, immortal  2016-12-02   \n",
       "8   court case, court, autism, lawyer, courtroom, ...  2022-06-29   \n",
       "9   tutor, family, single father, healing, rich ma...  2021-09-25   \n",
       "10  based on novel or book, businessman, fake iden...  2022-02-28   \n",
       "11  restaurant, rivalry, co-workers relationship, ...  2021-10-21   \n",
       "12  hell, cult, based on cartoon, supernatural cre...  2021-11-19   \n",
       "13                                            revenge  2022-11-09   \n",
       "14  friendship, romance, king, political intrigue ...  2019-10-04   \n",
       "15                                                NaN  2022-09-21   \n",
       "16  greed, investigation, secret organization, fil...  2022-07-29   \n",
       "17                        restaurant, daughter–in–law  2022-10-03   \n",
       "18  martial arts, assassin, magic, prince, secret ...  2022-06-18   \n",
       "19  police, undercover, fight, truth, revenge, mur...  2021-10-15   \n",
       "\n",
       "                                             cast_ids              genres_ids  \\\n",
       "0                            582555, 2117665, 1066220            18, 80, 9648   \n",
       "1   2125084, 1493898, 2185341, 2074587, 2402531, 1...        10759, 18, 10765   \n",
       "2   1252016, 1604826, 2333298, 2175208, 1108037, 1...                  35, 18   \n",
       "3   73249, 1593672, 3194501, 1557181, 1048070, 191...         10759, 9648, 18   \n",
       "4   1568455, 1368061, 1940498, 1233712, 139509, 17...         18, 9648, 10751   \n",
       "5   2067860, 1523043, 1418580, 2239782, 150697, 17...     18, 35, 9648, 10765   \n",
       "6   10112, 28662, 1593672, 1937533, 551682, 125760...     10759, 80, 18, 9648   \n",
       "7   150903, 1067849, 1238592, 1254169, 1398345, 12...               18, 10765   \n",
       "8   1134684, 1565392, 1648169, 1572347, 2720442, 5...                  18, 35   \n",
       "9   1253552, 2752543, 1568455, 1254981, 1487437, 1...           35, 18, 10751   \n",
       "10  1571598, 1834241, 1565088, 1761412, 1232904, 2...                  35, 18   \n",
       "11        2658775, 3226942, 3251880, 3281953, 3281954                      18   \n",
       "12  572225, 232599, 571172, 1916226, 108538, 17930...           18, 80, 10765   \n",
       "13  2256407, 2074587, 1723485, 1257644, 1654414, 2...                      18   \n",
       "14  1809986, 1845057, 1374514, 63438, 69080, 42896...               18, 10759   \n",
       "15  1234603, 1257601, 1613823, 560070, 3229192, 24...                  18, 35   \n",
       "16  1095818, 1252045, 2526744, 2736784, 1385609, 2...            9648, 18, 80   \n",
       "17                           132148, 1420819, 2296845               18, 10751   \n",
       "18                 1879169, 1736364, 2353469, 2791233  18, 10759, 9648, 10765   \n",
       "19  2112859, 93999, 1591491, 123820, 1615316, 3003834     80, 18, 9648, 10759   \n",
       "\n",
       "    number_of_seasons  number_of_episodes  episode_run_time  \\\n",
       "0                 1.0                29.0              30.0   \n",
       "1                 2.0                12.0              65.0   \n",
       "2                 1.0                16.0              75.0   \n",
       "3                 2.0                 9.0              54.0   \n",
       "4                 1.0                30.0              40.0   \n",
       "5                 1.0                10.0              54.0   \n",
       "6                 1.0                12.0               NaN   \n",
       "7                 1.0                16.0              77.0   \n",
       "8                 1.0                16.0              70.0   \n",
       "9                 1.0                52.0              70.0   \n",
       "10                1.0                12.0              60.0   \n",
       "11                1.0                 8.0              15.0   \n",
       "12                2.0                 6.0              52.0   \n",
       "13                1.0                12.0              60.0   \n",
       "14                1.0                16.0              70.0   \n",
       "15                1.0                16.0              67.0   \n",
       "16                1.0                16.0              68.0   \n",
       "17                1.0                44.0              30.0   \n",
       "18                2.0                30.0              74.0   \n",
       "19                1.0                 8.0              50.0   \n",
       "\n",
       "                                             synopsis  popularity  \\\n",
       "0   Yu Kyung is a successful woman who is proficie...     414.151   \n",
       "1   A high school becomes ground zero for a zombie...     398.111   \n",
       "2   Lim Ju-kyung is a high school student. Since s...     396.708   \n",
       "3   Hundreds of cash-strapped players accept a str...     323.945   \n",
       "4   The story of a woman who becomes the daughter-...     302.588   \n",
       "5   A young woman joins forces with a UFO enthusia...     223.442   \n",
       "6   Disguised under the shadows of a mask, a crew ...     202.731   \n",
       "7   In his quest for a bride to break his immortal...     160.914   \n",
       "8   Brilliant attorney Woo Young-woo tackles chall...     147.054   \n",
       "9   Lee Young Kook is a widower with three childre...     128.825   \n",
       "10  An ordinary office worker disguises herself an...     126.273   \n",
       "11  A youthful romance set in a restaurant between...     117.343   \n",
       "12  Unearthly beings deliver bloody condemnations,...     112.719   \n",
       "13  A boy falls to his death at school, but Ok Cha...      97.551   \n",
       "14  Set during the turbulent time of the fall of G...      96.015   \n",
       "15  Can marriage be a business? Sang-eun is a sing...      89.479   \n",
       "16  A lawyer, caught up in a murder case, becomes ...      86.329   \n",
       "17  Depicts the second love of a rogue daughter-in...      79.171   \n",
       "18  A powerful sorceress in a blind woman's body e...      66.889   \n",
       "19  Following her father's murder, a revenge-drive...      73.273   \n",
       "\n",
       "    average_rating  rating_count      networks_ids  \n",
       "0              NaN           NaN                97  \n",
       "1            8.421        2750.0               213  \n",
       "2            8.524        1156.0               NaN  \n",
       "3            7.835       11835.0               213  \n",
       "4              NaN           NaN               342  \n",
       "5            7.674          43.0               213  \n",
       "6            7.886         398.0               213  \n",
       "7            8.711        2361.0               NaN  \n",
       "8            8.310         381.0         213, 5841  \n",
       "9            8.125           8.0               342  \n",
       "10           8.388         103.0          156, 213  \n",
       "11           4.800           5.0  1390, 1671, 3732  \n",
       "12           7.515         687.0               213  \n",
       "13           7.300           3.0              2739  \n",
       "14           7.600          26.0          213, 885  \n",
       "15           9.300           6.0               NaN  \n",
       "16           8.200          37.0                97  \n",
       "17             NaN           NaN               829  \n",
       "18           8.693         174.0               NaN  \n",
       "19           8.319         602.0               213  "
      ]
     },
     "execution_count": 38,
     "metadata": {},
     "output_type": "execute_result"
    }
   ],
   "source": [
    "series_df.head(20)"
   ]
  },
  {
   "cell_type": "code",
   "execution_count": 39,
   "metadata": {},
   "outputs": [
    {
     "data": {
      "text/plain": [
       "(1514, 14)"
      ]
     },
     "execution_count": 39,
     "metadata": {},
     "output_type": "execute_result"
    }
   ],
   "source": [
    "series_df.shape"
   ]
  },
  {
   "cell_type": "markdown",
   "metadata": {
    "azdata_cell_guid": "e172475a-c4ee-414a-8367-9965355dbba6"
   },
   "source": [
    "### Genres --"
   ]
  },
  {
   "cell_type": "code",
   "execution_count": 23,
   "metadata": {},
   "outputs": [
    {
     "data": {
      "text/plain": [
       "Index(['tmdb_id', 'name'], dtype='object')"
      ]
     },
     "execution_count": 23,
     "metadata": {},
     "output_type": "execute_result"
    }
   ],
   "source": [
    "genres.columns\n",
    "\n",
    "#only 2 columns. keeping both"
   ]
  },
  {
   "cell_type": "code",
   "execution_count": 26,
   "metadata": {},
   "outputs": [
    {
     "name": "stdout",
     "output_type": "stream",
     "text": [
      "tmdb_id - 0%\n",
      "name - 0%\n"
     ]
    }
   ],
   "source": [
    "#dataset is complete wiht no missing values\n",
    "\n",
    "for col in genres.columns:\n",
    "    pct_missing = np.mean(genres[col].isnull())\n",
    "    print('{} - {}%'.format(col, round(pct_missing*100)))\n"
   ]
  },
  {
   "cell_type": "markdown",
   "metadata": {},
   "source": [
    "### Networks ---"
   ]
  },
  {
   "cell_type": "code",
   "execution_count": 22,
   "metadata": {},
   "outputs": [
    {
     "data": {
      "text/html": [
       "<div>\n",
       "<style scoped>\n",
       "    .dataframe tbody tr th:only-of-type {\n",
       "        vertical-align: middle;\n",
       "    }\n",
       "\n",
       "    .dataframe tbody tr th {\n",
       "        vertical-align: top;\n",
       "    }\n",
       "\n",
       "    .dataframe thead th {\n",
       "        text-align: right;\n",
       "    }\n",
       "</style>\n",
       "<table border=\"1\" class=\"dataframe\">\n",
       "  <thead>\n",
       "    <tr style=\"text-align: right;\">\n",
       "      <th></th>\n",
       "      <th>tmdb_id</th>\n",
       "      <th>name</th>\n",
       "    </tr>\n",
       "  </thead>\n",
       "  <tbody>\n",
       "    <tr>\n",
       "      <th>0</th>\n",
       "      <td>3266</td>\n",
       "      <td>GagaOOLala</td>\n",
       "    </tr>\n",
       "    <tr>\n",
       "      <th>1</th>\n",
       "      <td>1923</td>\n",
       "      <td>KBS Joy</td>\n",
       "    </tr>\n",
       "    <tr>\n",
       "      <th>2</th>\n",
       "      <td>2974</td>\n",
       "      <td>Lifetime</td>\n",
       "    </tr>\n",
       "    <tr>\n",
       "      <th>3</th>\n",
       "      <td>1671</td>\n",
       "      <td>LINE TV</td>\n",
       "    </tr>\n",
       "    <tr>\n",
       "      <th>4</th>\n",
       "      <td>3869</td>\n",
       "      <td>U-NEXT</td>\n",
       "    </tr>\n",
       "  </tbody>\n",
       "</table>\n",
       "</div>"
      ],
      "text/plain": [
       "   tmdb_id        name\n",
       "0     3266  GagaOOLala\n",
       "1     1923     KBS Joy\n",
       "2     2974    Lifetime\n",
       "3     1671     LINE TV\n",
       "4     3869      U-NEXT"
      ]
     },
     "execution_count": 22,
     "metadata": {},
     "output_type": "execute_result"
    }
   ],
   "source": [
    "# don't need these: 'headquarters' (also its missing a high percentage or data), 'homepage', 'logo_path', 'origin_country'\n",
    "# Dropping these features/columns\n",
    "\n",
    "cols_to_drop = ['headquarters', 'homepage', 'logo_path',\n",
    "       'origin_country']\n",
    "networks_cleaned = networks.drop(cols_to_drop, axis=1)\n",
    "networks_cleaned.head()"
   ]
  },
  {
   "cell_type": "markdown",
   "metadata": {},
   "source": [
    "### People ----"
   ]
  },
  {
   "cell_type": "code",
   "execution_count": null,
   "metadata": {},
   "outputs": [],
   "source": []
  },
  {
   "cell_type": "code",
   "execution_count": null,
   "metadata": {},
   "outputs": [],
   "source": []
  },
  {
   "cell_type": "markdown",
   "metadata": {
    "azdata_cell_guid": "53e0cf94-c68a-4fa0-9849-9505a66bcce6"
   },
   "source": [
    "## Inconsistent Data\n",
    "\n",
    "Check for inconsistent data and address any that arises. As always, use code comments to illustrate your thought process."
   ]
  },
  {
   "cell_type": "markdown",
   "metadata": {
    "azdata_cell_guid": "e172475a-c4ee-414a-8367-9965355dbba6"
   },
   "source": [
    "### Series"
   ]
  },
  {
   "cell_type": "code",
   "execution_count": null,
   "metadata": {
    "azdata_cell_guid": "e9de6624-812a-43f8-8e20-93b4a49b091f"
   },
   "outputs": [],
   "source": []
  },
  {
   "cell_type": "markdown",
   "metadata": {
    "azdata_cell_guid": "e172475a-c4ee-414a-8367-9965355dbba6"
   },
   "source": [
    "### Genres --"
   ]
  },
  {
   "cell_type": "code",
   "execution_count": 27,
   "metadata": {},
   "outputs": [
    {
     "data": {
      "text/plain": [
       "<bound method DataFrame.info of     tmdb_id                name\n",
       "0        18               Drama\n",
       "1        80               Crime\n",
       "2      9648             Mystery\n",
       "3     10759  Action & Adventure\n",
       "4     10765    Sci-Fi & Fantasy\n",
       "5        35              Comedy\n",
       "6     10751              Family\n",
       "7     10768      War & Politics\n",
       "8     10766                Soap\n",
       "9        36             History\n",
       "10    10749             Romance\n",
       "11    10764             Reality\n",
       "12    10762                Kids\n",
       "13       16           Animation\n",
       "14       99         Documentary>"
      ]
     },
     "execution_count": 27,
     "metadata": {},
     "output_type": "execute_result"
    }
   ],
   "source": [
    "#a little odd that only 18 are considered drama. I'd think that things like crime, mystery, action and adventure, \n",
    "    #and war and politics would all or at least most also fall under drama. does \"drama\" mean something else culturally \n",
    "    #or for whoever decided the genres?\n",
    "#nothing that needs changing, though. just curioius\n",
    "    \n",
    "genres.info"
   ]
  },
  {
   "cell_type": "code",
   "execution_count": null,
   "metadata": {},
   "outputs": [],
   "source": []
  },
  {
   "cell_type": "markdown",
   "metadata": {},
   "source": [
    "### Networks ---"
   ]
  },
  {
   "cell_type": "code",
   "execution_count": null,
   "metadata": {},
   "outputs": [],
   "source": []
  },
  {
   "cell_type": "markdown",
   "metadata": {},
   "source": [
    "### People ----"
   ]
  },
  {
   "cell_type": "code",
   "execution_count": null,
   "metadata": {},
   "outputs": [],
   "source": []
  },
  {
   "cell_type": "code",
   "execution_count": null,
   "metadata": {},
   "outputs": [],
   "source": [
    "#Basic Syntax: cleaned-dataframe.to_csv(\"path-where-you-want-to-save-your-exported-file/name.csv\")\n",
    "\n"
   ]
  },
  {
   "cell_type": "markdown",
   "metadata": {
    "azdata_cell_guid": "dedc0bfe-17d0-40b2-914f-2ddb54f9ce0d"
   },
   "source": [
    "## Summarize Your Results\n",
    "\n",
    "Make note of your answers to the following questions.\n",
    "\n",
    "1. Did you find all four types of dirty data in your dataset?\n",
    "2. Did the process of cleaning your data give you new insights into your dataset?\n",
    "3. Is there anything you would like to make note of when it comes to manipulating the data and making visualizations?"
   ]
  }
 ],
 "metadata": {
  "kernelspec": {
   "display_name": "Python 3 (ipykernel)",
   "language": "python",
   "name": "python3"
  },
  "language_info": {
   "codemirror_mode": {
    "name": "ipython",
    "version": 3
   },
   "file_extension": ".py",
   "mimetype": "text/x-python",
   "name": "python",
   "nbconvert_exporter": "python",
   "pygments_lexer": "ipython3",
   "version": "3.9.13"
  },
  "toc-autonumbering": true
 },
 "nbformat": 4,
 "nbformat_minor": 4
}
