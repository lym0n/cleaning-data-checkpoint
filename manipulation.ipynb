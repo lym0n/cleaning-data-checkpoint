{
 "cells": [
  {
   "cell_type": "markdown",
   "metadata": {
    "azdata_cell_guid": "26037d32-2047-4157-81ef-595916bd66a0",
    "tags": []
   },
   "source": [
    "# Extra Step: Manipulating Data\n",
    "\n",
    "\n",
    "My dataset:https://www.kaggle.com/datasets/robertonacu/tmdb-kdramas-2022?select=networks.csv\n",
    "\n",
    "Import the necessary libraries and create your dataframe(s).\n",
    "\n",
    "***"
   ]
  },
  {
   "cell_type": "code",
   "execution_count": 1,
   "metadata": {},
   "outputs": [
    {
     "name": "stdout",
     "output_type": "stream",
     "text": [
      " Volume in drive C is Windows-SSD\n",
      " Volume Serial Number is 7EB9-A76C\n",
      "\n",
      " Directory of C:\\Users\\Super\\Desktop\\Women+22\\graded4\\K-Dramas\\cleaning-data-checkpoint\n",
      "\n",
      "03/06/2023  10:02 PM    <DIR>          .\n",
      "03/03/2023  01:37 PM    <DIR>          ..\n",
      "12/28/2022  09:25 PM                23 .gitignore\n",
      "03/04/2023  03:04 PM    <DIR>          .ipynb_checkpoints\n",
      "03/05/2023  11:52 PM           811,914 checkpoint-three.ipynb\n",
      "03/05/2023  11:45 PM               277 genre.csv\n",
      "01/04/2023  04:38 PM               241 genres - Copy.csv\n",
      "03/06/2023  10:02 PM           105,046 manipulation.ipynb\n",
      "03/05/2023  11:45 PM             1,299 network_cleaned.csv\n",
      "01/04/2023  04:38 PM             8,258 networks - Copy.csv\n",
      "01/04/2023  04:38 PM           579,685 people - Copy.csv\n",
      "03/05/2023  11:45 PM           456,442 people_cleaned.csv\n",
      "01/04/2023  04:38 PM            19,189 production_companies - Copy.csv\n",
      "01/04/2023  04:38 PM         1,011,711 series - Copy.csv\n",
      "03/05/2023  11:45 PM           742,597 series_cleaned.csv\n",
      "              12 File(s)      3,736,682 bytes\n",
      "               3 Dir(s)  289,313,996,800 bytes free\n"
     ]
    }
   ],
   "source": [
    "#had to make copies of datasets to move into the folder for this checkpoint to access the files\n",
    "#needed to get exact name of csvs so I used a \"magic\" line to access terminal here to navigate to folder and get exact csv names\n",
    "%ls"
   ]
  },
  {
   "cell_type": "code",
   "execution_count": 2,
   "metadata": {},
   "outputs": [
    {
     "name": "stdout",
     "output_type": "stream",
     "text": [
      "[WinError 2] The system cannot find the file specified: 'cleaning-data-checkpoint'\n",
      "C:\\Users\\Super\\Desktop\\Women+22\\graded4\\K-Dramas\\cleaning-data-checkpoint\n"
     ]
    }
   ],
   "source": [
    "%cd cleaning-data-checkpoint"
   ]
  },
  {
   "cell_type": "code",
   "execution_count": 3,
   "metadata": {},
   "outputs": [
    {
     "name": "stdout",
     "output_type": "stream",
     "text": [
      " Volume in drive C is Windows-SSD\n",
      " Volume Serial Number is 7EB9-A76C\n",
      "\n",
      " Directory of C:\\Users\\Super\\Desktop\\Women+22\\graded4\\K-Dramas\\cleaning-data-checkpoint\n",
      "\n",
      "03/06/2023  10:02 PM    <DIR>          .\n",
      "03/03/2023  01:37 PM    <DIR>          ..\n",
      "12/28/2022  09:25 PM                23 .gitignore\n",
      "03/04/2023  03:04 PM    <DIR>          .ipynb_checkpoints\n",
      "03/05/2023  11:52 PM           811,914 checkpoint-three.ipynb\n",
      "03/05/2023  11:45 PM               277 genre.csv\n",
      "01/04/2023  04:38 PM               241 genres - Copy.csv\n",
      "03/06/2023  10:02 PM           105,046 manipulation.ipynb\n",
      "03/05/2023  11:45 PM             1,299 network_cleaned.csv\n",
      "01/04/2023  04:38 PM             8,258 networks - Copy.csv\n",
      "01/04/2023  04:38 PM           579,685 people - Copy.csv\n",
      "03/05/2023  11:45 PM           456,442 people_cleaned.csv\n",
      "01/04/2023  04:38 PM            19,189 production_companies - Copy.csv\n",
      "01/04/2023  04:38 PM         1,011,711 series - Copy.csv\n",
      "03/05/2023  11:45 PM           742,597 series_cleaned.csv\n",
      "              12 File(s)      3,736,682 bytes\n",
      "               3 Dir(s)  289,313,931,264 bytes free\n"
     ]
    }
   ],
   "source": [
    "%ls"
   ]
  },
  {
   "cell_type": "code",
   "execution_count": 4,
   "metadata": {
    "azdata_cell_guid": "e8adef8e-d0f2-4640-a179-5997f11e82ca"
   },
   "outputs": [],
   "source": [
    "#import needed libraires with aliases\n",
    "import pandas as pd\n",
    "import numpy as np\n",
    "import seaborn as sns\n",
    "import matplotlib.pyplot as plt\n",
    "import matplotlib.mlab as mlab\n",
    "import matplotlib\n",
    "plt.style.use('ggplot')\n",
    "from matplotlib.pyplot import figure\n",
    "\n",
    "# Again, I will approach the 5 datasets individually for cleaning as I did for EDA.\n",
    "    \n",
    "# read in and name the 5 datasets\n",
    "series = pd.read_csv(\"series_cleaned.csv\")\n",
    "genre = pd.read_csv(\"genre.csv\")\n",
    "network = pd.read_csv(\"network_cleaned.csv\")\n",
    "people = pd.read_csv(\"people_cleaned.csv\")\n",
    "production_companies = pd.read_csv(\"production_companies - Copy.csv\") #actually, I'm not keeping this one. many nulls and not needed for business issue."
   ]
  },
  {
   "cell_type": "markdown",
   "metadata": {},
   "source": [
    "***"
   ]
  },
  {
   "cell_type": "markdown",
   "metadata": {
    "azdata_cell_guid": "e172475a-c4ee-414a-8367-9965355dbba6",
    "tags": []
   },
   "source": [
    "<h1 style=\"background-color:gray; color:White; text-align:center\">Reviewing Cleaned Data</h1>\n",
    "\n",
    "***"
   ]
  },
  {
   "cell_type": "markdown",
   "metadata": {
    "azdata_cell_guid": "e172475a-c4ee-414a-8367-9965355dbba6",
    "tags": []
   },
   "source": [
    "### Series"
   ]
  },
  {
   "cell_type": "code",
   "execution_count": 5,
   "metadata": {},
   "outputs": [
    {
     "data": {
      "text/plain": [
       "(1474, 18)"
      ]
     },
     "execution_count": 5,
     "metadata": {},
     "output_type": "execute_result"
    }
   ],
   "source": [
    "series.shape"
   ]
  },
  {
   "cell_type": "code",
   "execution_count": 6,
   "metadata": {
    "scrolled": true
   },
   "outputs": [
    {
     "name": "stdout",
     "output_type": "stream",
     "text": [
      "Unnamed: 0 - 0%\n",
      "tmdb_id - 0%\n",
      "name - 0%\n",
      "cast_ids - 0%\n",
      "genres_ids - 0%\n",
      "number_of_seasons - 0%\n",
      "number_of_episodes - 1%\n",
      "episode_run_time - 14%\n",
      "synopsis - 5%\n",
      "popularity - 0%\n",
      "average_rating - 25%\n",
      "rating_count - 25%\n",
      "next_episode_to_air - 98%\n",
      "networks_ids - 13%\n",
      "airing_date_dt - 4%\n",
      "year - 4%\n",
      "month - 4%\n",
      "weekday - 4%\n"
     ]
    }
   ],
   "source": [
    "for col in series.columns:\n",
    "    pct_missing = np.mean(series[col].isnull())\n",
    "    print('{} - {}%'.format(col, round(pct_missing*100)))"
   ]
  },
  {
   "cell_type": "code",
   "execution_count": 7,
   "metadata": {},
   "outputs": [
    {
     "data": {
      "text/html": [
       "<div>\n",
       "<style scoped>\n",
       "    .dataframe tbody tr th:only-of-type {\n",
       "        vertical-align: middle;\n",
       "    }\n",
       "\n",
       "    .dataframe tbody tr th {\n",
       "        vertical-align: top;\n",
       "    }\n",
       "\n",
       "    .dataframe thead th {\n",
       "        text-align: right;\n",
       "    }\n",
       "</style>\n",
       "<table border=\"1\" class=\"dataframe\">\n",
       "  <thead>\n",
       "    <tr style=\"text-align: right;\">\n",
       "      <th></th>\n",
       "      <th>Unnamed: 0</th>\n",
       "      <th>tmdb_id</th>\n",
       "      <th>name</th>\n",
       "      <th>cast_ids</th>\n",
       "      <th>genres_ids</th>\n",
       "      <th>number_of_seasons</th>\n",
       "      <th>number_of_episodes</th>\n",
       "      <th>episode_run_time</th>\n",
       "      <th>synopsis</th>\n",
       "      <th>popularity</th>\n",
       "      <th>average_rating</th>\n",
       "      <th>rating_count</th>\n",
       "      <th>next_episode_to_air</th>\n",
       "      <th>networks_ids</th>\n",
       "      <th>airing_date_dt</th>\n",
       "      <th>year</th>\n",
       "      <th>month</th>\n",
       "      <th>weekday</th>\n",
       "    </tr>\n",
       "  </thead>\n",
       "  <tbody>\n",
       "    <tr>\n",
       "      <th>0</th>\n",
       "      <td>0</td>\n",
       "      <td>208249</td>\n",
       "      <td>Game of Witches</td>\n",
       "      <td>582555, 2117665, 1066220</td>\n",
       "      <td>18, 80, 9648</td>\n",
       "      <td>1.0</td>\n",
       "      <td>29.0</td>\n",
       "      <td>30.0</td>\n",
       "      <td>Yu Kyung is a successful woman who is proficie...</td>\n",
       "      <td>414.151</td>\n",
       "      <td>NaN</td>\n",
       "      <td>NaN</td>\n",
       "      <td>25.0</td>\n",
       "      <td>97</td>\n",
       "      <td>2022-10-11</td>\n",
       "      <td>2022.0</td>\n",
       "      <td>10.0</td>\n",
       "      <td>1.0</td>\n",
       "    </tr>\n",
       "  </tbody>\n",
       "</table>\n",
       "</div>"
      ],
      "text/plain": [
       "   Unnamed: 0  tmdb_id             name                  cast_ids  \\\n",
       "0           0   208249  Game of Witches  582555, 2117665, 1066220   \n",
       "\n",
       "     genres_ids  number_of_seasons  number_of_episodes  episode_run_time  \\\n",
       "0  18, 80, 9648                1.0                29.0              30.0   \n",
       "\n",
       "                                            synopsis  popularity  \\\n",
       "0  Yu Kyung is a successful woman who is proficie...     414.151   \n",
       "\n",
       "   average_rating  rating_count  next_episode_to_air networks_ids  \\\n",
       "0             NaN           NaN                 25.0           97   \n",
       "\n",
       "  airing_date_dt    year  month  weekday  \n",
       "0     2022-10-11  2022.0   10.0      1.0  "
      ]
     },
     "execution_count": 7,
     "metadata": {},
     "output_type": "execute_result"
    }
   ],
   "source": [
    "series.head(1)"
   ]
  },
  {
   "cell_type": "code",
   "execution_count": 8,
   "metadata": {},
   "outputs": [
    {
     "name": "stdout",
     "output_type": "stream",
     "text": [
      "<class 'pandas.core.frame.DataFrame'>\n",
      "RangeIndex: 1474 entries, 0 to 1473\n",
      "Data columns (total 18 columns):\n",
      " #   Column               Non-Null Count  Dtype  \n",
      "---  ------               --------------  -----  \n",
      " 0   Unnamed: 0           1474 non-null   int64  \n",
      " 1   tmdb_id              1474 non-null   int64  \n",
      " 2   name                 1474 non-null   object \n",
      " 3   cast_ids             1474 non-null   object \n",
      " 4   genres_ids           1474 non-null   object \n",
      " 5   number_of_seasons    1474 non-null   float64\n",
      " 6   number_of_episodes   1466 non-null   float64\n",
      " 7   episode_run_time     1271 non-null   float64\n",
      " 8   synopsis             1400 non-null   object \n",
      " 9   popularity           1474 non-null   float64\n",
      " 10  average_rating       1109 non-null   float64\n",
      " 11  rating_count         1109 non-null   float64\n",
      " 12  next_episode_to_air  36 non-null     float64\n",
      " 13  networks_ids         1279 non-null   object \n",
      " 14  airing_date_dt       1418 non-null   object \n",
      " 15  year                 1418 non-null   float64\n",
      " 16  month                1418 non-null   float64\n",
      " 17  weekday              1418 non-null   float64\n",
      "dtypes: float64(10), int64(2), object(6)\n",
      "memory usage: 207.4+ KB\n"
     ]
    }
   ],
   "source": [
    "series.info()"
   ]
  },
  {
   "cell_type": "markdown",
   "metadata": {
    "azdata_cell_guid": "e172475a-c4ee-414a-8367-9965355dbba6",
    "tags": []
   },
   "source": [
    "### Networks"
   ]
  },
  {
   "cell_type": "code",
   "execution_count": 9,
   "metadata": {},
   "outputs": [
    {
     "data": {
      "text/plain": [
       "(77, 3)"
      ]
     },
     "execution_count": 9,
     "metadata": {},
     "output_type": "execute_result"
    }
   ],
   "source": [
    "network.shape"
   ]
  },
  {
   "cell_type": "code",
   "execution_count": 10,
   "metadata": {},
   "outputs": [
    {
     "data": {
      "text/plain": [
       "Index(['Unnamed: 0', 'tmdb_id', 'name'], dtype='object')"
      ]
     },
     "execution_count": 10,
     "metadata": {},
     "output_type": "execute_result"
    }
   ],
   "source": [
    "network.columns"
   ]
  },
  {
   "cell_type": "code",
   "execution_count": 11,
   "metadata": {},
   "outputs": [
    {
     "data": {
      "text/html": [
       "<div>\n",
       "<style scoped>\n",
       "    .dataframe tbody tr th:only-of-type {\n",
       "        vertical-align: middle;\n",
       "    }\n",
       "\n",
       "    .dataframe tbody tr th {\n",
       "        vertical-align: top;\n",
       "    }\n",
       "\n",
       "    .dataframe thead th {\n",
       "        text-align: right;\n",
       "    }\n",
       "</style>\n",
       "<table border=\"1\" class=\"dataframe\">\n",
       "  <thead>\n",
       "    <tr style=\"text-align: right;\">\n",
       "      <th></th>\n",
       "      <th>Unnamed: 0</th>\n",
       "      <th>tmdb_id</th>\n",
       "      <th>name</th>\n",
       "    </tr>\n",
       "  </thead>\n",
       "  <tbody>\n",
       "    <tr>\n",
       "      <th>0</th>\n",
       "      <td>0</td>\n",
       "      <td>3266</td>\n",
       "      <td>GagaOOLala</td>\n",
       "    </tr>\n",
       "  </tbody>\n",
       "</table>\n",
       "</div>"
      ],
      "text/plain": [
       "   Unnamed: 0  tmdb_id        name\n",
       "0           0     3266  GagaOOLala"
      ]
     },
     "execution_count": 11,
     "metadata": {},
     "output_type": "execute_result"
    }
   ],
   "source": [
    "network.head(1)"
   ]
  },
  {
   "cell_type": "code",
   "execution_count": 12,
   "metadata": {},
   "outputs": [
    {
     "data": {
      "text/html": [
       "<div>\n",
       "<style scoped>\n",
       "    .dataframe tbody tr th:only-of-type {\n",
       "        vertical-align: middle;\n",
       "    }\n",
       "\n",
       "    .dataframe tbody tr th {\n",
       "        vertical-align: top;\n",
       "    }\n",
       "\n",
       "    .dataframe thead th {\n",
       "        text-align: right;\n",
       "    }\n",
       "</style>\n",
       "<table border=\"1\" class=\"dataframe\">\n",
       "  <thead>\n",
       "    <tr style=\"text-align: right;\">\n",
       "      <th></th>\n",
       "      <th>Unnamed: 0</th>\n",
       "      <th>network_tmbd_id</th>\n",
       "      <th>network</th>\n",
       "    </tr>\n",
       "  </thead>\n",
       "  <tbody>\n",
       "    <tr>\n",
       "      <th>0</th>\n",
       "      <td>0</td>\n",
       "      <td>3266</td>\n",
       "      <td>GagaOOLala</td>\n",
       "    </tr>\n",
       "  </tbody>\n",
       "</table>\n",
       "</div>"
      ],
      "text/plain": [
       "   Unnamed: 0  network_tmbd_id     network\n",
       "0           0             3266  GagaOOLala"
      ]
     },
     "execution_count": 12,
     "metadata": {},
     "output_type": "execute_result"
    }
   ],
   "source": [
    "new_columns = {'tmdb_id': 'network_tmbd_id', 'name': 'network',}\n",
    "\n",
    "network = network.rename(columns = new_columns) \n",
    "\n",
    "network.head(1)\n",
    "        "
   ]
  },
  {
   "cell_type": "markdown",
   "metadata": {
    "azdata_cell_guid": "e172475a-c4ee-414a-8367-9965355dbba6",
    "tags": []
   },
   "source": [
    "### People"
   ]
  },
  {
   "cell_type": "code",
   "execution_count": 13,
   "metadata": {},
   "outputs": [
    {
     "data": {
      "text/plain": [
       "(3465, 13)"
      ]
     },
     "execution_count": 13,
     "metadata": {},
     "output_type": "execute_result"
    }
   ],
   "source": [
    "people.shape"
   ]
  },
  {
   "cell_type": "code",
   "execution_count": 14,
   "metadata": {
    "azdata_cell_guid": "e1dc66ef-e471-4c27-92e7-ee878c106eba"
   },
   "outputs": [
    {
     "data": {
      "text/html": [
       "<div>\n",
       "<style scoped>\n",
       "    .dataframe tbody tr th:only-of-type {\n",
       "        vertical-align: middle;\n",
       "    }\n",
       "\n",
       "    .dataframe tbody tr th {\n",
       "        vertical-align: top;\n",
       "    }\n",
       "\n",
       "    .dataframe thead th {\n",
       "        text-align: right;\n",
       "    }\n",
       "</style>\n",
       "<table border=\"1\" class=\"dataframe\">\n",
       "  <thead>\n",
       "    <tr style=\"text-align: right;\">\n",
       "      <th></th>\n",
       "      <th>Unnamed: 0</th>\n",
       "      <th>tmdb_id</th>\n",
       "      <th>name</th>\n",
       "      <th>place_of_birth</th>\n",
       "      <th>deathday</th>\n",
       "      <th>gender</th>\n",
       "      <th>known_for_department</th>\n",
       "      <th>popularity</th>\n",
       "      <th>profile_img_url</th>\n",
       "      <th>birthday_dt</th>\n",
       "      <th>year</th>\n",
       "      <th>month</th>\n",
       "      <th>weekday</th>\n",
       "    </tr>\n",
       "  </thead>\n",
       "  <tbody>\n",
       "    <tr>\n",
       "      <th>0</th>\n",
       "      <td>0</td>\n",
       "      <td>3686810</td>\n",
       "      <td>Kim Hyo Myung</td>\n",
       "      <td>NaN</td>\n",
       "      <td>NaN</td>\n",
       "      <td>2.0</td>\n",
       "      <td>Acting</td>\n",
       "      <td>0.6</td>\n",
       "      <td>https://image.tmdb.org/t/p/original/ezzJi0RWmh...</td>\n",
       "      <td>1988-03-18</td>\n",
       "      <td>1988.0</td>\n",
       "      <td>3.0</td>\n",
       "      <td>4.0</td>\n",
       "    </tr>\n",
       "  </tbody>\n",
       "</table>\n",
       "</div>"
      ],
      "text/plain": [
       "   Unnamed: 0  tmdb_id           name place_of_birth deathday  gender  \\\n",
       "0           0  3686810  Kim Hyo Myung            NaN      NaN     2.0   \n",
       "\n",
       "  known_for_department  popularity  \\\n",
       "0               Acting         0.6   \n",
       "\n",
       "                                     profile_img_url birthday_dt    year  \\\n",
       "0  https://image.tmdb.org/t/p/original/ezzJi0RWmh...  1988-03-18  1988.0   \n",
       "\n",
       "   month  weekday  \n",
       "0    3.0      4.0  "
      ]
     },
     "execution_count": 14,
     "metadata": {},
     "output_type": "execute_result"
    }
   ],
   "source": [
    "people.head(1)"
   ]
  },
  {
   "cell_type": "code",
   "execution_count": 15,
   "metadata": {},
   "outputs": [
    {
     "data": {
      "text/html": [
       "<div>\n",
       "<style scoped>\n",
       "    .dataframe tbody tr th:only-of-type {\n",
       "        vertical-align: middle;\n",
       "    }\n",
       "\n",
       "    .dataframe tbody tr th {\n",
       "        vertical-align: top;\n",
       "    }\n",
       "\n",
       "    .dataframe thead th {\n",
       "        text-align: right;\n",
       "    }\n",
       "</style>\n",
       "<table border=\"1\" class=\"dataframe\">\n",
       "  <thead>\n",
       "    <tr style=\"text-align: right;\">\n",
       "      <th></th>\n",
       "      <th>Unnamed: 0</th>\n",
       "      <th>actor_tmdb_id</th>\n",
       "      <th>actor</th>\n",
       "      <th>place_of_birth</th>\n",
       "      <th>deathday</th>\n",
       "      <th>sex</th>\n",
       "      <th>known_for_department</th>\n",
       "      <th>pop actor</th>\n",
       "      <th>headshot</th>\n",
       "      <th>birthday</th>\n",
       "      <th>birth_yr</th>\n",
       "      <th>birth_month</th>\n",
       "      <th>birth_weekday</th>\n",
       "    </tr>\n",
       "  </thead>\n",
       "  <tbody>\n",
       "    <tr>\n",
       "      <th>0</th>\n",
       "      <td>0</td>\n",
       "      <td>3686810</td>\n",
       "      <td>Kim Hyo Myung</td>\n",
       "      <td>NaN</td>\n",
       "      <td>NaN</td>\n",
       "      <td>2.0</td>\n",
       "      <td>Acting</td>\n",
       "      <td>0.6</td>\n",
       "      <td>https://image.tmdb.org/t/p/original/ezzJi0RWmh...</td>\n",
       "      <td>1988-03-18</td>\n",
       "      <td>1988.0</td>\n",
       "      <td>3.0</td>\n",
       "      <td>4.0</td>\n",
       "    </tr>\n",
       "  </tbody>\n",
       "</table>\n",
       "</div>"
      ],
      "text/plain": [
       "   Unnamed: 0  actor_tmdb_id          actor place_of_birth deathday  sex  \\\n",
       "0           0        3686810  Kim Hyo Myung            NaN      NaN  2.0   \n",
       "\n",
       "  known_for_department  pop actor  \\\n",
       "0               Acting        0.6   \n",
       "\n",
       "                                            headshot    birthday  birth_yr  \\\n",
       "0  https://image.tmdb.org/t/p/original/ezzJi0RWmh...  1988-03-18    1988.0   \n",
       "\n",
       "   birth_month  birth_weekday  \n",
       "0          3.0            4.0  "
      ]
     },
     "execution_count": 15,
     "metadata": {},
     "output_type": "execute_result"
    }
   ],
   "source": [
    "new_columns = {'tmdb_id': 'actor_tmdb_id', 'name': 'actor',\n",
    "       'gender': 'sex', 'popularity': 'pop actor', 'profile_img_url': 'headshot',\n",
    "       'birthday_dt': 'birthday', 'year': 'birth_yr', 'month': 'birth_month', 'weekday': 'birth_weekday'}\n",
    "\n",
    "people = people.rename(columns = new_columns) \n",
    "people.head(1)"
   ]
  },
  {
   "cell_type": "code",
   "execution_count": 16,
   "metadata": {},
   "outputs": [
    {
     "name": "stdout",
     "output_type": "stream",
     "text": [
      "Unnamed: 0 - 0%\n",
      "actor_tmdb_id - 0%\n",
      "actor - 0%\n",
      "place_of_birth - 47%\n",
      "deathday - 99%\n",
      "sex - 15%\n",
      "known_for_department - 0%\n",
      "pop actor - 0%\n",
      "headshot - 21%\n",
      "birthday - 18%\n",
      "birth_yr - 18%\n",
      "birth_month - 18%\n",
      "birth_weekday - 18%\n"
     ]
    }
   ],
   "source": [
    "for col in people.columns:\n",
    "    pct_missing = np.mean(people[col].isnull())\n",
    "    print('{} - {}%'.format(col, round(pct_missing*100)))"
   ]
  },
  {
   "cell_type": "code",
   "execution_count": 17,
   "metadata": {},
   "outputs": [
    {
     "name": "stdout",
     "output_type": "stream",
     "text": [
      "<class 'pandas.core.frame.DataFrame'>\n",
      "RangeIndex: 3465 entries, 0 to 3464\n",
      "Data columns (total 13 columns):\n",
      " #   Column                Non-Null Count  Dtype  \n",
      "---  ------                --------------  -----  \n",
      " 0   Unnamed: 0            3465 non-null   int64  \n",
      " 1   actor_tmdb_id         3465 non-null   int64  \n",
      " 2   actor                 3465 non-null   object \n",
      " 3   place_of_birth        1851 non-null   object \n",
      " 4   deathday              40 non-null     object \n",
      " 5   sex                   2935 non-null   float64\n",
      " 6   known_for_department  3465 non-null   object \n",
      " 7   pop actor             3465 non-null   float64\n",
      " 8   headshot              2726 non-null   object \n",
      " 9   birthday              2828 non-null   object \n",
      " 10  birth_yr              2828 non-null   float64\n",
      " 11  birth_month           2828 non-null   float64\n",
      " 12  birth_weekday         2828 non-null   float64\n",
      "dtypes: float64(5), int64(2), object(6)\n",
      "memory usage: 352.0+ KB\n"
     ]
    }
   ],
   "source": [
    "people.info()"
   ]
  },
  {
   "cell_type": "code",
   "execution_count": null,
   "metadata": {},
   "outputs": [],
   "source": []
  },
  {
   "cell_type": "markdown",
   "metadata": {},
   "source": [
    "### Genre"
   ]
  },
  {
   "cell_type": "code",
   "execution_count": 18,
   "metadata": {},
   "outputs": [
    {
     "data": {
      "text/plain": [
       "(15, 3)"
      ]
     },
     "execution_count": 18,
     "metadata": {},
     "output_type": "execute_result"
    }
   ],
   "source": [
    "genre.shape"
   ]
  },
  {
   "cell_type": "code",
   "execution_count": 19,
   "metadata": {},
   "outputs": [
    {
     "data": {
      "text/html": [
       "<div>\n",
       "<style scoped>\n",
       "    .dataframe tbody tr th:only-of-type {\n",
       "        vertical-align: middle;\n",
       "    }\n",
       "\n",
       "    .dataframe tbody tr th {\n",
       "        vertical-align: top;\n",
       "    }\n",
       "\n",
       "    .dataframe thead th {\n",
       "        text-align: right;\n",
       "    }\n",
       "</style>\n",
       "<table border=\"1\" class=\"dataframe\">\n",
       "  <thead>\n",
       "    <tr style=\"text-align: right;\">\n",
       "      <th></th>\n",
       "      <th>Unnamed: 0</th>\n",
       "      <th>tmdb_id</th>\n",
       "      <th>name</th>\n",
       "    </tr>\n",
       "  </thead>\n",
       "  <tbody>\n",
       "    <tr>\n",
       "      <th>0</th>\n",
       "      <td>0</td>\n",
       "      <td>18</td>\n",
       "      <td>Drama</td>\n",
       "    </tr>\n",
       "  </tbody>\n",
       "</table>\n",
       "</div>"
      ],
      "text/plain": [
       "   Unnamed: 0  tmdb_id   name\n",
       "0           0       18  Drama"
      ]
     },
     "execution_count": 19,
     "metadata": {},
     "output_type": "execute_result"
    }
   ],
   "source": [
    "genre.head(1)"
   ]
  },
  {
   "cell_type": "code",
   "execution_count": 20,
   "metadata": {},
   "outputs": [
    {
     "data": {
      "text/plain": [
       "Unnamed: 0    0\n",
       "tmdb_id       0\n",
       "name          0\n",
       "dtype: int64"
      ]
     },
     "execution_count": 20,
     "metadata": {},
     "output_type": "execute_result"
    }
   ],
   "source": [
    "genre.isnull().sum()"
   ]
  },
  {
   "cell_type": "code",
   "execution_count": 21,
   "metadata": {},
   "outputs": [
    {
     "data": {
      "text/html": [
       "<div>\n",
       "<style scoped>\n",
       "    .dataframe tbody tr th:only-of-type {\n",
       "        vertical-align: middle;\n",
       "    }\n",
       "\n",
       "    .dataframe tbody tr th {\n",
       "        vertical-align: top;\n",
       "    }\n",
       "\n",
       "    .dataframe thead th {\n",
       "        text-align: right;\n",
       "    }\n",
       "</style>\n",
       "<table border=\"1\" class=\"dataframe\">\n",
       "  <thead>\n",
       "    <tr style=\"text-align: right;\">\n",
       "      <th></th>\n",
       "      <th>Unnamed: 0</th>\n",
       "      <th>genre_tmdb_id</th>\n",
       "      <th>genre</th>\n",
       "    </tr>\n",
       "  </thead>\n",
       "  <tbody>\n",
       "    <tr>\n",
       "      <th>0</th>\n",
       "      <td>0</td>\n",
       "      <td>18</td>\n",
       "      <td>Drama</td>\n",
       "    </tr>\n",
       "    <tr>\n",
       "      <th>1</th>\n",
       "      <td>1</td>\n",
       "      <td>80</td>\n",
       "      <td>Crime</td>\n",
       "    </tr>\n",
       "    <tr>\n",
       "      <th>2</th>\n",
       "      <td>2</td>\n",
       "      <td>9648</td>\n",
       "      <td>Mystery</td>\n",
       "    </tr>\n",
       "    <tr>\n",
       "      <th>3</th>\n",
       "      <td>3</td>\n",
       "      <td>10759</td>\n",
       "      <td>Action &amp; Adventure</td>\n",
       "    </tr>\n",
       "    <tr>\n",
       "      <th>4</th>\n",
       "      <td>4</td>\n",
       "      <td>10765</td>\n",
       "      <td>Sci-Fi &amp; Fantasy</td>\n",
       "    </tr>\n",
       "  </tbody>\n",
       "</table>\n",
       "</div>"
      ],
      "text/plain": [
       "   Unnamed: 0  genre_tmdb_id               genre\n",
       "0           0             18               Drama\n",
       "1           1             80               Crime\n",
       "2           2           9648             Mystery\n",
       "3           3          10759  Action & Adventure\n",
       "4           4          10765    Sci-Fi & Fantasy"
      ]
     },
     "execution_count": 21,
     "metadata": {},
     "output_type": "execute_result"
    }
   ],
   "source": [
    "new_columns = {'tmdb_id': 'genre_tmdb_id', 'name': 'genre'}\n",
    "genre = genre.rename(columns = new_columns) \n",
    "genre.head()      "
   ]
  },
  {
   "cell_type": "code",
   "execution_count": null,
   "metadata": {},
   "outputs": [],
   "source": []
  },
  {
   "cell_type": "markdown",
   "metadata": {},
   "source": [
    "<h1 style=\"background-color:gray; color:White; text-align:center\">Manipulating Cleaned Data</h1>\n"
   ]
  },
  {
   "cell_type": "code",
   "execution_count": 22,
   "metadata": {},
   "outputs": [
    {
     "data": {
      "text/plain": [
       "Index(['Unnamed: 0', 'tmdb_id', 'name', 'cast_ids', 'genres_ids',\n",
       "       'number_of_seasons', 'number_of_episodes', 'episode_run_time',\n",
       "       'synopsis', 'popularity', 'average_rating', 'rating_count',\n",
       "       'next_episode_to_air', 'networks_ids', 'airing_date_dt', 'year',\n",
       "       'month', 'weekday'],\n",
       "      dtype='object')"
      ]
     },
     "execution_count": 22,
     "metadata": {},
     "output_type": "execute_result"
    }
   ],
   "source": [
    "series.columns\n"
   ]
  },
  {
   "cell_type": "code",
   "execution_count": 23,
   "metadata": {},
   "outputs": [
    {
     "name": "stdout",
     "output_type": "stream",
     "text": [
      "<class 'pandas.core.frame.DataFrame'>\n",
      "RangeIndex: 1474 entries, 0 to 1473\n",
      "Data columns (total 18 columns):\n",
      " #   Column               Non-Null Count  Dtype  \n",
      "---  ------               --------------  -----  \n",
      " 0   Unnamed: 0           1474 non-null   int64  \n",
      " 1   tmdb_id              1474 non-null   int64  \n",
      " 2   name                 1474 non-null   object \n",
      " 3   cast_ids             1474 non-null   object \n",
      " 4   genres_ids           1474 non-null   object \n",
      " 5   number_of_seasons    1474 non-null   float64\n",
      " 6   number_of_episodes   1466 non-null   float64\n",
      " 7   episode_run_time     1271 non-null   float64\n",
      " 8   synopsis             1400 non-null   object \n",
      " 9   popularity           1474 non-null   float64\n",
      " 10  average_rating       1109 non-null   float64\n",
      " 11  rating_count         1109 non-null   float64\n",
      " 12  next_episode_to_air  36 non-null     float64\n",
      " 13  networks_ids         1279 non-null   object \n",
      " 14  airing_date_dt       1418 non-null   object \n",
      " 15  year                 1418 non-null   float64\n",
      " 16  month                1418 non-null   float64\n",
      " 17  weekday              1418 non-null   float64\n",
      "dtypes: float64(10), int64(2), object(6)\n",
      "memory usage: 207.4+ KB\n"
     ]
    }
   ],
   "source": [
    "series.info()"
   ]
  },
  {
   "cell_type": "code",
   "execution_count": null,
   "metadata": {},
   "outputs": [],
   "source": []
  },
  {
   "cell_type": "code",
   "execution_count": 24,
   "metadata": {},
   "outputs": [
    {
     "data": {
      "text/html": [
       "<div>\n",
       "<style scoped>\n",
       "    .dataframe tbody tr th:only-of-type {\n",
       "        vertical-align: middle;\n",
       "    }\n",
       "\n",
       "    .dataframe tbody tr th {\n",
       "        vertical-align: top;\n",
       "    }\n",
       "\n",
       "    .dataframe thead th {\n",
       "        text-align: right;\n",
       "    }\n",
       "</style>\n",
       "<table border=\"1\" class=\"dataframe\">\n",
       "  <thead>\n",
       "    <tr style=\"text-align: right;\">\n",
       "      <th></th>\n",
       "      <th>Unnamed: 0</th>\n",
       "      <th>tmdb_id</th>\n",
       "      <th>name</th>\n",
       "      <th>cast_ids</th>\n",
       "      <th>genres_ids</th>\n",
       "      <th>number_of_seasons</th>\n",
       "      <th>number_of_episodes</th>\n",
       "      <th>episode_run_time</th>\n",
       "      <th>synopsis</th>\n",
       "      <th>popularity</th>\n",
       "      <th>average_rating</th>\n",
       "      <th>rating_count</th>\n",
       "      <th>next_episode_to_air</th>\n",
       "      <th>networks_ids</th>\n",
       "      <th>airing_date_dt</th>\n",
       "      <th>year</th>\n",
       "      <th>month</th>\n",
       "      <th>weekday</th>\n",
       "    </tr>\n",
       "  </thead>\n",
       "  <tbody>\n",
       "    <tr>\n",
       "      <th>0</th>\n",
       "      <td>0</td>\n",
       "      <td>208249</td>\n",
       "      <td>Game of Witches</td>\n",
       "      <td>582555, 2117665, 1066220</td>\n",
       "      <td>18, 80, 9648</td>\n",
       "      <td>1.0</td>\n",
       "      <td>29.0</td>\n",
       "      <td>30.0</td>\n",
       "      <td>Yu Kyung is a successful woman who is proficie...</td>\n",
       "      <td>414.151</td>\n",
       "      <td>NaN</td>\n",
       "      <td>NaN</td>\n",
       "      <td>25.0</td>\n",
       "      <td>97</td>\n",
       "      <td>2022-10-11</td>\n",
       "      <td>2022.0</td>\n",
       "      <td>10.0</td>\n",
       "      <td>1.0</td>\n",
       "    </tr>\n",
       "  </tbody>\n",
       "</table>\n",
       "</div>"
      ],
      "text/plain": [
       "   Unnamed: 0  tmdb_id             name                  cast_ids  \\\n",
       "0           0   208249  Game of Witches  582555, 2117665, 1066220   \n",
       "\n",
       "     genres_ids  number_of_seasons  number_of_episodes  episode_run_time  \\\n",
       "0  18, 80, 9648                1.0                29.0              30.0   \n",
       "\n",
       "                                            synopsis  popularity  \\\n",
       "0  Yu Kyung is a successful woman who is proficie...     414.151   \n",
       "\n",
       "   average_rating  rating_count  next_episode_to_air networks_ids  \\\n",
       "0             NaN           NaN                 25.0           97   \n",
       "\n",
       "  airing_date_dt    year  month  weekday  \n",
       "0     2022-10-11  2022.0   10.0      1.0  "
      ]
     },
     "execution_count": 24,
     "metadata": {},
     "output_type": "execute_result"
    }
   ],
   "source": [
    "series.head(1)"
   ]
  },
  {
   "cell_type": "code",
   "execution_count": 25,
   "metadata": {},
   "outputs": [],
   "source": [
    "#converting to strings and splitting at each comma to make new rows\n",
    "\n",
    "series['networks_ids'] = series['networks_ids'].str.split(\",\")\n",
    "series['cast_ids'] = series['cast_ids'].str.split(\",\")\n",
    "series['genres_ids'] = series['genres_ids'].str.split(\",\")"
   ]
  },
  {
   "cell_type": "code",
   "execution_count": 26,
   "metadata": {},
   "outputs": [
    {
     "data": {
      "text/html": [
       "<div>\n",
       "<style scoped>\n",
       "    .dataframe tbody tr th:only-of-type {\n",
       "        vertical-align: middle;\n",
       "    }\n",
       "\n",
       "    .dataframe tbody tr th {\n",
       "        vertical-align: top;\n",
       "    }\n",
       "\n",
       "    .dataframe thead th {\n",
       "        text-align: right;\n",
       "    }\n",
       "</style>\n",
       "<table border=\"1\" class=\"dataframe\">\n",
       "  <thead>\n",
       "    <tr style=\"text-align: right;\">\n",
       "      <th></th>\n",
       "      <th>Unnamed: 0</th>\n",
       "      <th>tmdb_id</th>\n",
       "      <th>name</th>\n",
       "      <th>cast_ids</th>\n",
       "      <th>genres_ids</th>\n",
       "      <th>number_of_seasons</th>\n",
       "      <th>number_of_episodes</th>\n",
       "      <th>episode_run_time</th>\n",
       "      <th>synopsis</th>\n",
       "      <th>popularity</th>\n",
       "      <th>average_rating</th>\n",
       "      <th>rating_count</th>\n",
       "      <th>next_episode_to_air</th>\n",
       "      <th>networks_ids</th>\n",
       "      <th>airing_date_dt</th>\n",
       "      <th>year</th>\n",
       "      <th>month</th>\n",
       "      <th>weekday</th>\n",
       "    </tr>\n",
       "  </thead>\n",
       "  <tbody>\n",
       "    <tr>\n",
       "      <th>0</th>\n",
       "      <td>0</td>\n",
       "      <td>208249</td>\n",
       "      <td>Game of Witches</td>\n",
       "      <td>[582555,  2117665,  1066220]</td>\n",
       "      <td>[18,  80,  9648]</td>\n",
       "      <td>1.0</td>\n",
       "      <td>29.0</td>\n",
       "      <td>30.0</td>\n",
       "      <td>Yu Kyung is a successful woman who is proficie...</td>\n",
       "      <td>414.151</td>\n",
       "      <td>NaN</td>\n",
       "      <td>NaN</td>\n",
       "      <td>25.0</td>\n",
       "      <td>[97]</td>\n",
       "      <td>2022-10-11</td>\n",
       "      <td>2022.0</td>\n",
       "      <td>10.0</td>\n",
       "      <td>1.0</td>\n",
       "    </tr>\n",
       "  </tbody>\n",
       "</table>\n",
       "</div>"
      ],
      "text/plain": [
       "   Unnamed: 0  tmdb_id             name                      cast_ids  \\\n",
       "0           0   208249  Game of Witches  [582555,  2117665,  1066220]   \n",
       "\n",
       "         genres_ids  number_of_seasons  number_of_episodes  episode_run_time  \\\n",
       "0  [18,  80,  9648]                1.0                29.0              30.0   \n",
       "\n",
       "                                            synopsis  popularity  \\\n",
       "0  Yu Kyung is a successful woman who is proficie...     414.151   \n",
       "\n",
       "   average_rating  rating_count  next_episode_to_air networks_ids  \\\n",
       "0             NaN           NaN                 25.0         [97]   \n",
       "\n",
       "  airing_date_dt    year  month  weekday  \n",
       "0     2022-10-11  2022.0   10.0      1.0  "
      ]
     },
     "execution_count": 26,
     "metadata": {},
     "output_type": "execute_result"
    }
   ],
   "source": [
    "series.head(1)"
   ]
  },
  {
   "cell_type": "code",
   "execution_count": 27,
   "metadata": {},
   "outputs": [
    {
     "data": {
      "text/html": [
       "<div>\n",
       "<style scoped>\n",
       "    .dataframe tbody tr th:only-of-type {\n",
       "        vertical-align: middle;\n",
       "    }\n",
       "\n",
       "    .dataframe tbody tr th {\n",
       "        vertical-align: top;\n",
       "    }\n",
       "\n",
       "    .dataframe thead th {\n",
       "        text-align: right;\n",
       "    }\n",
       "</style>\n",
       "<table border=\"1\" class=\"dataframe\">\n",
       "  <thead>\n",
       "    <tr style=\"text-align: right;\">\n",
       "      <th></th>\n",
       "      <th>Unnamed: 0</th>\n",
       "      <th>tmdb_id</th>\n",
       "      <th>name</th>\n",
       "      <th>cast_ids</th>\n",
       "      <th>genres_ids</th>\n",
       "      <th>number_of_seasons</th>\n",
       "      <th>number_of_episodes</th>\n",
       "      <th>episode_run_time</th>\n",
       "      <th>synopsis</th>\n",
       "      <th>popularity</th>\n",
       "      <th>average_rating</th>\n",
       "      <th>rating_count</th>\n",
       "      <th>next_episode_to_air</th>\n",
       "      <th>networks_ids</th>\n",
       "      <th>airing_date_dt</th>\n",
       "      <th>year</th>\n",
       "      <th>month</th>\n",
       "      <th>weekday</th>\n",
       "    </tr>\n",
       "  </thead>\n",
       "  <tbody>\n",
       "    <tr>\n",
       "      <th>0</th>\n",
       "      <td>0</td>\n",
       "      <td>208249</td>\n",
       "      <td>Game of Witches</td>\n",
       "      <td>[582555,  2117665,  1066220]</td>\n",
       "      <td>18</td>\n",
       "      <td>1.0</td>\n",
       "      <td>29.0</td>\n",
       "      <td>30.0</td>\n",
       "      <td>Yu Kyung is a successful woman who is proficie...</td>\n",
       "      <td>414.151</td>\n",
       "      <td>NaN</td>\n",
       "      <td>NaN</td>\n",
       "      <td>25.0</td>\n",
       "      <td>[97]</td>\n",
       "      <td>2022-10-11</td>\n",
       "      <td>2022.0</td>\n",
       "      <td>10.0</td>\n",
       "      <td>1.0</td>\n",
       "    </tr>\n",
       "  </tbody>\n",
       "</table>\n",
       "</div>"
      ],
      "text/plain": [
       "   Unnamed: 0  tmdb_id             name                      cast_ids  \\\n",
       "0           0   208249  Game of Witches  [582555,  2117665,  1066220]   \n",
       "\n",
       "  genres_ids  number_of_seasons  number_of_episodes  episode_run_time  \\\n",
       "0         18                1.0                29.0              30.0   \n",
       "\n",
       "                                            synopsis  popularity  \\\n",
       "0  Yu Kyung is a successful woman who is proficie...     414.151   \n",
       "\n",
       "   average_rating  rating_count  next_episode_to_air networks_ids  \\\n",
       "0             NaN           NaN                 25.0         [97]   \n",
       "\n",
       "  airing_date_dt    year  month  weekday  \n",
       "0     2022-10-11  2022.0   10.0      1.0  "
      ]
     },
     "execution_count": 27,
     "metadata": {},
     "output_type": "execute_result"
    }
   ],
   "source": [
    "series = series.explode('genres_ids')\n",
    "series.head(1)"
   ]
  },
  {
   "cell_type": "code",
   "execution_count": 28,
   "metadata": {},
   "outputs": [],
   "source": [
    "#new_columns = {\"genres_ids\": \"genres\", \"networks_ids\": \"networks\", \"production_companies_ids\": \"production_companies\", \"directors_ids\": \"directors\", \"cast_ids\": \"cast\"}\n",
    "#series = series.rename(columns = new_columns)\n",
    "\n",
    "new_columns = {'name': 'series', 'number_of_seasons': 'seasons', 'number_of_episodes': 'episodes',\n",
    "       'popularity': 'pop series', 'airing_date_dt': 'air_dt', 'year': 'air_yr',\n",
    "       'month': 'air_month', 'weekday': 'air_weekday'}\n",
    "\n",
    "series = series.rename(columns = new_columns)\n"
   ]
  },
  {
   "cell_type": "code",
   "execution_count": 29,
   "metadata": {},
   "outputs": [
    {
     "data": {
      "text/html": [
       "<div>\n",
       "<style scoped>\n",
       "    .dataframe tbody tr th:only-of-type {\n",
       "        vertical-align: middle;\n",
       "    }\n",
       "\n",
       "    .dataframe tbody tr th {\n",
       "        vertical-align: top;\n",
       "    }\n",
       "\n",
       "    .dataframe thead th {\n",
       "        text-align: right;\n",
       "    }\n",
       "</style>\n",
       "<table border=\"1\" class=\"dataframe\">\n",
       "  <thead>\n",
       "    <tr style=\"text-align: right;\">\n",
       "      <th></th>\n",
       "      <th>Unnamed: 0</th>\n",
       "      <th>tmdb_id</th>\n",
       "      <th>series</th>\n",
       "      <th>cast_ids</th>\n",
       "      <th>genres_ids</th>\n",
       "      <th>seasons</th>\n",
       "      <th>episodes</th>\n",
       "      <th>episode_run_time</th>\n",
       "      <th>synopsis</th>\n",
       "      <th>pop series</th>\n",
       "      <th>average_rating</th>\n",
       "      <th>rating_count</th>\n",
       "      <th>next_episode_to_air</th>\n",
       "      <th>networks_ids</th>\n",
       "      <th>air_dt</th>\n",
       "      <th>air_yr</th>\n",
       "      <th>air_month</th>\n",
       "      <th>air_weekday</th>\n",
       "    </tr>\n",
       "  </thead>\n",
       "  <tbody>\n",
       "    <tr>\n",
       "      <th>0</th>\n",
       "      <td>0</td>\n",
       "      <td>208249</td>\n",
       "      <td>Game of Witches</td>\n",
       "      <td>582555</td>\n",
       "      <td>18</td>\n",
       "      <td>1.0</td>\n",
       "      <td>29.0</td>\n",
       "      <td>30.0</td>\n",
       "      <td>Yu Kyung is a successful woman who is proficie...</td>\n",
       "      <td>414.151</td>\n",
       "      <td>NaN</td>\n",
       "      <td>NaN</td>\n",
       "      <td>25.0</td>\n",
       "      <td>[97]</td>\n",
       "      <td>2022-10-11</td>\n",
       "      <td>2022.0</td>\n",
       "      <td>10.0</td>\n",
       "      <td>1.0</td>\n",
       "    </tr>\n",
       "  </tbody>\n",
       "</table>\n",
       "</div>"
      ],
      "text/plain": [
       "   Unnamed: 0  tmdb_id           series cast_ids genres_ids  seasons  \\\n",
       "0           0   208249  Game of Witches   582555         18      1.0   \n",
       "\n",
       "   episodes  episode_run_time  \\\n",
       "0      29.0              30.0   \n",
       "\n",
       "                                            synopsis  pop series  \\\n",
       "0  Yu Kyung is a successful woman who is proficie...     414.151   \n",
       "\n",
       "   average_rating  rating_count  next_episode_to_air networks_ids      air_dt  \\\n",
       "0             NaN           NaN                 25.0         [97]  2022-10-11   \n",
       "\n",
       "   air_yr  air_month  air_weekday  \n",
       "0  2022.0       10.0          1.0  "
      ]
     },
     "execution_count": 29,
     "metadata": {},
     "output_type": "execute_result"
    }
   ],
   "source": [
    "series = series.explode('cast_ids')\n",
    "series.head(1)"
   ]
  },
  {
   "cell_type": "code",
   "execution_count": null,
   "metadata": {},
   "outputs": [],
   "source": []
  },
  {
   "cell_type": "code",
   "execution_count": 30,
   "metadata": {},
   "outputs": [
    {
     "data": {
      "text/html": [
       "<div>\n",
       "<style scoped>\n",
       "    .dataframe tbody tr th:only-of-type {\n",
       "        vertical-align: middle;\n",
       "    }\n",
       "\n",
       "    .dataframe tbody tr th {\n",
       "        vertical-align: top;\n",
       "    }\n",
       "\n",
       "    .dataframe thead th {\n",
       "        text-align: right;\n",
       "    }\n",
       "</style>\n",
       "<table border=\"1\" class=\"dataframe\">\n",
       "  <thead>\n",
       "    <tr style=\"text-align: right;\">\n",
       "      <th></th>\n",
       "      <th>Unnamed: 0</th>\n",
       "      <th>tmdb_id</th>\n",
       "      <th>series</th>\n",
       "      <th>cast_ids</th>\n",
       "      <th>genres_ids</th>\n",
       "      <th>seasons</th>\n",
       "      <th>episodes</th>\n",
       "      <th>episode_run_time</th>\n",
       "      <th>synopsis</th>\n",
       "      <th>pop series</th>\n",
       "      <th>average_rating</th>\n",
       "      <th>rating_count</th>\n",
       "      <th>next_episode_to_air</th>\n",
       "      <th>networks_ids</th>\n",
       "      <th>air_dt</th>\n",
       "      <th>air_yr</th>\n",
       "      <th>air_month</th>\n",
       "      <th>air_weekday</th>\n",
       "    </tr>\n",
       "  </thead>\n",
       "  <tbody>\n",
       "    <tr>\n",
       "      <th>0</th>\n",
       "      <td>0</td>\n",
       "      <td>208249</td>\n",
       "      <td>Game of Witches</td>\n",
       "      <td>582555</td>\n",
       "      <td>18</td>\n",
       "      <td>1.0</td>\n",
       "      <td>29.0</td>\n",
       "      <td>30.0</td>\n",
       "      <td>Yu Kyung is a successful woman who is proficie...</td>\n",
       "      <td>414.151</td>\n",
       "      <td>NaN</td>\n",
       "      <td>NaN</td>\n",
       "      <td>25.0</td>\n",
       "      <td>97</td>\n",
       "      <td>2022-10-11</td>\n",
       "      <td>2022.0</td>\n",
       "      <td>10.0</td>\n",
       "      <td>1.0</td>\n",
       "    </tr>\n",
       "    <tr>\n",
       "      <th>0</th>\n",
       "      <td>0</td>\n",
       "      <td>208249</td>\n",
       "      <td>Game of Witches</td>\n",
       "      <td>2117665</td>\n",
       "      <td>18</td>\n",
       "      <td>1.0</td>\n",
       "      <td>29.0</td>\n",
       "      <td>30.0</td>\n",
       "      <td>Yu Kyung is a successful woman who is proficie...</td>\n",
       "      <td>414.151</td>\n",
       "      <td>NaN</td>\n",
       "      <td>NaN</td>\n",
       "      <td>25.0</td>\n",
       "      <td>97</td>\n",
       "      <td>2022-10-11</td>\n",
       "      <td>2022.0</td>\n",
       "      <td>10.0</td>\n",
       "      <td>1.0</td>\n",
       "    </tr>\n",
       "    <tr>\n",
       "      <th>0</th>\n",
       "      <td>0</td>\n",
       "      <td>208249</td>\n",
       "      <td>Game of Witches</td>\n",
       "      <td>1066220</td>\n",
       "      <td>18</td>\n",
       "      <td>1.0</td>\n",
       "      <td>29.0</td>\n",
       "      <td>30.0</td>\n",
       "      <td>Yu Kyung is a successful woman who is proficie...</td>\n",
       "      <td>414.151</td>\n",
       "      <td>NaN</td>\n",
       "      <td>NaN</td>\n",
       "      <td>25.0</td>\n",
       "      <td>97</td>\n",
       "      <td>2022-10-11</td>\n",
       "      <td>2022.0</td>\n",
       "      <td>10.0</td>\n",
       "      <td>1.0</td>\n",
       "    </tr>\n",
       "    <tr>\n",
       "      <th>0</th>\n",
       "      <td>0</td>\n",
       "      <td>208249</td>\n",
       "      <td>Game of Witches</td>\n",
       "      <td>582555</td>\n",
       "      <td>80</td>\n",
       "      <td>1.0</td>\n",
       "      <td>29.0</td>\n",
       "      <td>30.0</td>\n",
       "      <td>Yu Kyung is a successful woman who is proficie...</td>\n",
       "      <td>414.151</td>\n",
       "      <td>NaN</td>\n",
       "      <td>NaN</td>\n",
       "      <td>25.0</td>\n",
       "      <td>97</td>\n",
       "      <td>2022-10-11</td>\n",
       "      <td>2022.0</td>\n",
       "      <td>10.0</td>\n",
       "      <td>1.0</td>\n",
       "    </tr>\n",
       "    <tr>\n",
       "      <th>0</th>\n",
       "      <td>0</td>\n",
       "      <td>208249</td>\n",
       "      <td>Game of Witches</td>\n",
       "      <td>2117665</td>\n",
       "      <td>80</td>\n",
       "      <td>1.0</td>\n",
       "      <td>29.0</td>\n",
       "      <td>30.0</td>\n",
       "      <td>Yu Kyung is a successful woman who is proficie...</td>\n",
       "      <td>414.151</td>\n",
       "      <td>NaN</td>\n",
       "      <td>NaN</td>\n",
       "      <td>25.0</td>\n",
       "      <td>97</td>\n",
       "      <td>2022-10-11</td>\n",
       "      <td>2022.0</td>\n",
       "      <td>10.0</td>\n",
       "      <td>1.0</td>\n",
       "    </tr>\n",
       "  </tbody>\n",
       "</table>\n",
       "</div>"
      ],
      "text/plain": [
       "   Unnamed: 0  tmdb_id           series  cast_ids genres_ids  seasons  \\\n",
       "0           0   208249  Game of Witches    582555         18      1.0   \n",
       "0           0   208249  Game of Witches   2117665         18      1.0   \n",
       "0           0   208249  Game of Witches   1066220         18      1.0   \n",
       "0           0   208249  Game of Witches    582555         80      1.0   \n",
       "0           0   208249  Game of Witches   2117665         80      1.0   \n",
       "\n",
       "   episodes  episode_run_time  \\\n",
       "0      29.0              30.0   \n",
       "0      29.0              30.0   \n",
       "0      29.0              30.0   \n",
       "0      29.0              30.0   \n",
       "0      29.0              30.0   \n",
       "\n",
       "                                            synopsis  pop series  \\\n",
       "0  Yu Kyung is a successful woman who is proficie...     414.151   \n",
       "0  Yu Kyung is a successful woman who is proficie...     414.151   \n",
       "0  Yu Kyung is a successful woman who is proficie...     414.151   \n",
       "0  Yu Kyung is a successful woman who is proficie...     414.151   \n",
       "0  Yu Kyung is a successful woman who is proficie...     414.151   \n",
       "\n",
       "   average_rating  rating_count  next_episode_to_air networks_ids      air_dt  \\\n",
       "0             NaN           NaN                 25.0           97  2022-10-11   \n",
       "0             NaN           NaN                 25.0           97  2022-10-11   \n",
       "0             NaN           NaN                 25.0           97  2022-10-11   \n",
       "0             NaN           NaN                 25.0           97  2022-10-11   \n",
       "0             NaN           NaN                 25.0           97  2022-10-11   \n",
       "\n",
       "   air_yr  air_month  air_weekday  \n",
       "0  2022.0       10.0          1.0  \n",
       "0  2022.0       10.0          1.0  \n",
       "0  2022.0       10.0          1.0  \n",
       "0  2022.0       10.0          1.0  \n",
       "0  2022.0       10.0          1.0  "
      ]
     },
     "execution_count": 30,
     "metadata": {},
     "output_type": "execute_result"
    }
   ],
   "source": [
    "series = series.explode('networks_ids')\n",
    "series.head(5)"
   ]
  },
  {
   "cell_type": "code",
   "execution_count": null,
   "metadata": {},
   "outputs": [],
   "source": []
  },
  {
   "cell_type": "code",
   "execution_count": null,
   "metadata": {},
   "outputs": [],
   "source": []
  },
  {
   "cell_type": "code",
   "execution_count": 31,
   "metadata": {},
   "outputs": [
    {
     "name": "stdout",
     "output_type": "stream",
     "text": [
      "<class 'pandas.core.frame.DataFrame'>\n",
      "Int64Index: 27871 entries, 0 to 1473\n",
      "Data columns (total 18 columns):\n",
      " #   Column               Non-Null Count  Dtype  \n",
      "---  ------               --------------  -----  \n",
      " 0   Unnamed: 0           27871 non-null  int64  \n",
      " 1   tmdb_id              27871 non-null  int64  \n",
      " 2   series               27871 non-null  object \n",
      " 3   cast_ids             27871 non-null  object \n",
      " 4   genres_ids           27871 non-null  object \n",
      " 5   seasons              27871 non-null  float64\n",
      " 6   episodes             27823 non-null  float64\n",
      " 7   episode_run_time     25948 non-null  float64\n",
      " 8   synopsis             27080 non-null  object \n",
      " 9   pop series           27871 non-null  float64\n",
      " 10  average_rating       24258 non-null  float64\n",
      " 11  rating_count         24258 non-null  float64\n",
      " 12  next_episode_to_air  550 non-null    float64\n",
      " 13  networks_ids         24082 non-null  object \n",
      " 14  air_dt               27427 non-null  object \n",
      " 15  air_yr               27427 non-null  float64\n",
      " 16  air_month            27427 non-null  float64\n",
      " 17  air_weekday          27427 non-null  float64\n",
      "dtypes: float64(10), int64(2), object(6)\n",
      "memory usage: 4.0+ MB\n"
     ]
    }
   ],
   "source": [
    "series.info()"
   ]
  },
  {
   "cell_type": "code",
   "execution_count": 32,
   "metadata": {},
   "outputs": [
    {
     "name": "stdout",
     "output_type": "stream",
     "text": [
      "<class 'pandas.core.frame.DataFrame'>\n",
      "Int64Index: 27871 entries, 0 to 1473\n",
      "Data columns (total 18 columns):\n",
      " #   Column               Non-Null Count  Dtype  \n",
      "---  ------               --------------  -----  \n",
      " 0   Unnamed: 0           27871 non-null  int64  \n",
      " 1   tmdb_id              27871 non-null  int64  \n",
      " 2   series               27871 non-null  object \n",
      " 3   cast_ids             27871 non-null  int64  \n",
      " 4   genres_ids           27871 non-null  int64  \n",
      " 5   seasons              27871 non-null  float64\n",
      " 6   episodes             27823 non-null  float64\n",
      " 7   episode_run_time     25948 non-null  float64\n",
      " 8   synopsis             27080 non-null  object \n",
      " 9   pop series           27871 non-null  float64\n",
      " 10  average_rating       24258 non-null  float64\n",
      " 11  rating_count         24258 non-null  float64\n",
      " 12  next_episode_to_air  550 non-null    float64\n",
      " 13  networks_ids         24082 non-null  float64\n",
      " 14  air_dt               27427 non-null  object \n",
      " 15  air_yr               27427 non-null  float64\n",
      " 16  air_month            27427 non-null  float64\n",
      " 17  air_weekday          27427 non-null  float64\n",
      "dtypes: float64(11), int64(4), object(3)\n",
      "memory usage: 4.0+ MB\n"
     ]
    }
   ],
   "source": [
    "# convert the columns I want to merge to be integers instead of object data type because you can't merge columns with two diff data types together\n",
    "series['networks_ids'] = pd.to_numeric(series['networks_ids'])\n",
    "series['cast_ids'] = pd.to_numeric(series['cast_ids'])\n",
    "series['genres_ids'] = pd.to_numeric(series['genres_ids'])\n",
    "series.info()"
   ]
  },
  {
   "cell_type": "code",
   "execution_count": 33,
   "metadata": {},
   "outputs": [
    {
     "name": "stdout",
     "output_type": "stream",
     "text": [
      "<class 'pandas.core.frame.DataFrame'>\n",
      "Int64Index: 27871 entries, 0 to 1473\n",
      "Data columns (total 18 columns):\n",
      " #   Column               Non-Null Count  Dtype  \n",
      "---  ------               --------------  -----  \n",
      " 0   Unnamed: 0           27871 non-null  int64  \n",
      " 1   tmdb_id              27871 non-null  int64  \n",
      " 2   series               27871 non-null  object \n",
      " 3   cast_ids             27871 non-null  int64  \n",
      " 4   genres_ids           27871 non-null  int64  \n",
      " 5   seasons              27871 non-null  float64\n",
      " 6   episodes             27823 non-null  float64\n",
      " 7   episode_run_time     25948 non-null  float64\n",
      " 8   synopsis             27080 non-null  object \n",
      " 9   pop series           27871 non-null  float64\n",
      " 10  average_rating       24258 non-null  float64\n",
      " 11  rating_count         24258 non-null  float64\n",
      " 12  next_episode_to_air  550 non-null    float64\n",
      " 13  networks_ids         24082 non-null  float64\n",
      " 14  air_dt               27427 non-null  object \n",
      " 15  air_yr               27427 non-null  float64\n",
      " 16  air_month            27427 non-null  float64\n",
      " 17  air_weekday          27427 non-null  float64\n",
      "dtypes: float64(11), int64(4), object(3)\n",
      "memory usage: 4.0+ MB\n"
     ]
    }
   ],
   "source": [
    "series.info()"
   ]
  },
  {
   "cell_type": "code",
   "execution_count": null,
   "metadata": {},
   "outputs": [],
   "source": []
  },
  {
   "cell_type": "markdown",
   "metadata": {},
   "source": [
    "<h1 style=\"background-color:gray; color:White; text-align:center\">Merging Data</h1>\n"
   ]
  },
  {
   "cell_type": "markdown",
   "metadata": {},
   "source": [
    "***"
   ]
  },
  {
   "cell_type": "code",
   "execution_count": 34,
   "metadata": {},
   "outputs": [
    {
     "name": "stdout",
     "output_type": "stream",
     "text": [
      "<class 'pandas.core.frame.DataFrame'>\n",
      "RangeIndex: 77 entries, 0 to 76\n",
      "Data columns (total 3 columns):\n",
      " #   Column           Non-Null Count  Dtype \n",
      "---  ------           --------------  ----- \n",
      " 0   Unnamed: 0       77 non-null     int64 \n",
      " 1   network_tmbd_id  77 non-null     int64 \n",
      " 2   network          77 non-null     object\n",
      "dtypes: int64(2), object(1)\n",
      "memory usage: 1.9+ KB\n"
     ]
    }
   ],
   "source": [
    "network.info()"
   ]
  },
  {
   "cell_type": "code",
   "execution_count": 35,
   "metadata": {},
   "outputs": [],
   "source": [
    "#merging the networks data onto the series table\n",
    "left_merge_network = pd.merge(series, network, left_on='networks_ids', right_on='network_tmbd_id', how='left')"
   ]
  },
  {
   "cell_type": "code",
   "execution_count": 36,
   "metadata": {},
   "outputs": [
    {
     "data": {
      "text/html": [
       "<div>\n",
       "<style scoped>\n",
       "    .dataframe tbody tr th:only-of-type {\n",
       "        vertical-align: middle;\n",
       "    }\n",
       "\n",
       "    .dataframe tbody tr th {\n",
       "        vertical-align: top;\n",
       "    }\n",
       "\n",
       "    .dataframe thead th {\n",
       "        text-align: right;\n",
       "    }\n",
       "</style>\n",
       "<table border=\"1\" class=\"dataframe\">\n",
       "  <thead>\n",
       "    <tr style=\"text-align: right;\">\n",
       "      <th></th>\n",
       "      <th>Unnamed: 0_x</th>\n",
       "      <th>tmdb_id</th>\n",
       "      <th>series</th>\n",
       "      <th>cast_ids</th>\n",
       "      <th>genres_ids</th>\n",
       "      <th>seasons</th>\n",
       "      <th>episodes</th>\n",
       "      <th>episode_run_time</th>\n",
       "      <th>synopsis</th>\n",
       "      <th>pop series</th>\n",
       "      <th>...</th>\n",
       "      <th>rating_count</th>\n",
       "      <th>next_episode_to_air</th>\n",
       "      <th>networks_ids</th>\n",
       "      <th>air_dt</th>\n",
       "      <th>air_yr</th>\n",
       "      <th>air_month</th>\n",
       "      <th>air_weekday</th>\n",
       "      <th>Unnamed: 0_y</th>\n",
       "      <th>network_tmbd_id</th>\n",
       "      <th>network</th>\n",
       "    </tr>\n",
       "  </thead>\n",
       "  <tbody>\n",
       "    <tr>\n",
       "      <th>0</th>\n",
       "      <td>0</td>\n",
       "      <td>208249</td>\n",
       "      <td>Game of Witches</td>\n",
       "      <td>582555</td>\n",
       "      <td>18</td>\n",
       "      <td>1.0</td>\n",
       "      <td>29.0</td>\n",
       "      <td>30.0</td>\n",
       "      <td>Yu Kyung is a successful woman who is proficie...</td>\n",
       "      <td>414.151</td>\n",
       "      <td>...</td>\n",
       "      <td>NaN</td>\n",
       "      <td>25.0</td>\n",
       "      <td>97.0</td>\n",
       "      <td>2022-10-11</td>\n",
       "      <td>2022.0</td>\n",
       "      <td>10.0</td>\n",
       "      <td>1.0</td>\n",
       "      <td>19.0</td>\n",
       "      <td>97.0</td>\n",
       "      <td>MBC</td>\n",
       "    </tr>\n",
       "  </tbody>\n",
       "</table>\n",
       "<p>1 rows × 21 columns</p>\n",
       "</div>"
      ],
      "text/plain": [
       "   Unnamed: 0_x  tmdb_id           series  cast_ids  genres_ids  seasons  \\\n",
       "0             0   208249  Game of Witches    582555          18      1.0   \n",
       "\n",
       "   episodes  episode_run_time  \\\n",
       "0      29.0              30.0   \n",
       "\n",
       "                                            synopsis  pop series  ...  \\\n",
       "0  Yu Kyung is a successful woman who is proficie...     414.151  ...   \n",
       "\n",
       "   rating_count  next_episode_to_air  networks_ids      air_dt  air_yr  \\\n",
       "0           NaN                 25.0          97.0  2022-10-11  2022.0   \n",
       "\n",
       "   air_month  air_weekday  Unnamed: 0_y  network_tmbd_id  network  \n",
       "0       10.0          1.0          19.0             97.0      MBC  \n",
       "\n",
       "[1 rows x 21 columns]"
      ]
     },
     "execution_count": 36,
     "metadata": {},
     "output_type": "execute_result"
    }
   ],
   "source": [
    "left_merge_network.head(1)"
   ]
  },
  {
   "cell_type": "code",
   "execution_count": 37,
   "metadata": {},
   "outputs": [
    {
     "name": "stdout",
     "output_type": "stream",
     "text": [
      "<class 'pandas.core.frame.DataFrame'>\n",
      "RangeIndex: 3465 entries, 0 to 3464\n",
      "Data columns (total 13 columns):\n",
      " #   Column                Non-Null Count  Dtype  \n",
      "---  ------                --------------  -----  \n",
      " 0   Unnamed: 0            3465 non-null   int64  \n",
      " 1   actor_tmdb_id         3465 non-null   int64  \n",
      " 2   actor                 3465 non-null   object \n",
      " 3   place_of_birth        1851 non-null   object \n",
      " 4   deathday              40 non-null     object \n",
      " 5   sex                   2935 non-null   float64\n",
      " 6   known_for_department  3465 non-null   object \n",
      " 7   pop actor             3465 non-null   float64\n",
      " 8   headshot              2726 non-null   object \n",
      " 9   birthday              2828 non-null   object \n",
      " 10  birth_yr              2828 non-null   float64\n",
      " 11  birth_month           2828 non-null   float64\n",
      " 12  birth_weekday         2828 non-null   float64\n",
      "dtypes: float64(5), int64(2), object(6)\n",
      "memory usage: 352.0+ KB\n"
     ]
    }
   ],
   "source": [
    "people.info()"
   ]
  },
  {
   "cell_type": "code",
   "execution_count": 38,
   "metadata": {},
   "outputs": [],
   "source": [
    "#merging the people table onto the previoiusly merged table\n",
    "#merged_table = pd.merge(table1, pd.merge(table2, table3, on=\"id\"), on=\"id\")\n",
    "\n",
    "#left_merge_network = pd.merge(series, network, left_on='networks_ids', right_on='tmdb_id', how='left')\n",
    "\n",
    "left_merge_plus_people = pd.merge(left_merge_network, people, left_on='cast_ids', right_on='actor_tmdb_id', how='left')"
   ]
  },
  {
   "cell_type": "code",
   "execution_count": 39,
   "metadata": {},
   "outputs": [
    {
     "data": {
      "text/html": [
       "<div>\n",
       "<style scoped>\n",
       "    .dataframe tbody tr th:only-of-type {\n",
       "        vertical-align: middle;\n",
       "    }\n",
       "\n",
       "    .dataframe tbody tr th {\n",
       "        vertical-align: top;\n",
       "    }\n",
       "\n",
       "    .dataframe thead th {\n",
       "        text-align: right;\n",
       "    }\n",
       "</style>\n",
       "<table border=\"1\" class=\"dataframe\">\n",
       "  <thead>\n",
       "    <tr style=\"text-align: right;\">\n",
       "      <th></th>\n",
       "      <th>Unnamed: 0_x</th>\n",
       "      <th>tmdb_id</th>\n",
       "      <th>series</th>\n",
       "      <th>cast_ids</th>\n",
       "      <th>genres_ids</th>\n",
       "      <th>seasons</th>\n",
       "      <th>episodes</th>\n",
       "      <th>episode_run_time</th>\n",
       "      <th>synopsis</th>\n",
       "      <th>pop series</th>\n",
       "      <th>...</th>\n",
       "      <th>place_of_birth</th>\n",
       "      <th>deathday</th>\n",
       "      <th>sex</th>\n",
       "      <th>known_for_department</th>\n",
       "      <th>pop actor</th>\n",
       "      <th>headshot</th>\n",
       "      <th>birthday</th>\n",
       "      <th>birth_yr</th>\n",
       "      <th>birth_month</th>\n",
       "      <th>birth_weekday</th>\n",
       "    </tr>\n",
       "  </thead>\n",
       "  <tbody>\n",
       "    <tr>\n",
       "      <th>0</th>\n",
       "      <td>0</td>\n",
       "      <td>208249</td>\n",
       "      <td>Game of Witches</td>\n",
       "      <td>582555</td>\n",
       "      <td>18</td>\n",
       "      <td>1.0</td>\n",
       "      <td>29.0</td>\n",
       "      <td>30.0</td>\n",
       "      <td>Yu Kyung is a successful woman who is proficie...</td>\n",
       "      <td>414.151</td>\n",
       "      <td>...</td>\n",
       "      <td>Seoul, South Korea</td>\n",
       "      <td>NaN</td>\n",
       "      <td>1.0</td>\n",
       "      <td>Acting</td>\n",
       "      <td>1.934</td>\n",
       "      <td>https://image.tmdb.org/t/p/original/zxjXig4bOT...</td>\n",
       "      <td>1972-01-05</td>\n",
       "      <td>1972.0</td>\n",
       "      <td>1.0</td>\n",
       "      <td>2.0</td>\n",
       "    </tr>\n",
       "  </tbody>\n",
       "</table>\n",
       "<p>1 rows × 34 columns</p>\n",
       "</div>"
      ],
      "text/plain": [
       "   Unnamed: 0_x  tmdb_id           series  cast_ids  genres_ids  seasons  \\\n",
       "0             0   208249  Game of Witches    582555          18      1.0   \n",
       "\n",
       "   episodes  episode_run_time  \\\n",
       "0      29.0              30.0   \n",
       "\n",
       "                                            synopsis  pop series  ...  \\\n",
       "0  Yu Kyung is a successful woman who is proficie...     414.151  ...   \n",
       "\n",
       "       place_of_birth  deathday  sex  known_for_department pop actor  \\\n",
       "0  Seoul, South Korea       NaN  1.0                Acting     1.934   \n",
       "\n",
       "                                            headshot    birthday  birth_yr  \\\n",
       "0  https://image.tmdb.org/t/p/original/zxjXig4bOT...  1972-01-05    1972.0   \n",
       "\n",
       "   birth_month  birth_weekday  \n",
       "0          1.0            2.0  \n",
       "\n",
       "[1 rows x 34 columns]"
      ]
     },
     "execution_count": 39,
     "metadata": {},
     "output_type": "execute_result"
    }
   ],
   "source": [
    "left_merge_plus_people.head(1)"
   ]
  },
  {
   "cell_type": "code",
   "execution_count": 40,
   "metadata": {},
   "outputs": [
    {
     "name": "stdout",
     "output_type": "stream",
     "text": [
      "<class 'pandas.core.frame.DataFrame'>\n",
      "RangeIndex: 15 entries, 0 to 14\n",
      "Data columns (total 3 columns):\n",
      " #   Column         Non-Null Count  Dtype \n",
      "---  ------         --------------  ----- \n",
      " 0   Unnamed: 0     15 non-null     int64 \n",
      " 1   genre_tmdb_id  15 non-null     int64 \n",
      " 2   genre          15 non-null     object\n",
      "dtypes: int64(2), object(1)\n",
      "memory usage: 488.0+ bytes\n"
     ]
    }
   ],
   "source": [
    "genre.info()"
   ]
  },
  {
   "cell_type": "code",
   "execution_count": 41,
   "metadata": {},
   "outputs": [
    {
     "data": {
      "text/plain": [
       "50"
      ]
     },
     "execution_count": 41,
     "metadata": {},
     "output_type": "execute_result"
    }
   ],
   "source": [
    "pd.options.display.max_colwidth"
   ]
  },
  {
   "cell_type": "code",
   "execution_count": 42,
   "metadata": {},
   "outputs": [
    {
     "name": "stderr",
     "output_type": "stream",
     "text": [
      "C:\\Users\\Super\\AppData\\Local\\Temp\\ipykernel_39344\\1969647138.py:4: FutureWarning: Passing 'suffixes' which cause duplicate columns {'Unnamed: 0_x'} in the result is deprecated and will raise a MergeError in a future version.\n",
      "  left_merge_plus_people_genre = pd.merge(left_merge_plus_people, genre, left_on='genres_ids', right_on='genre_tmdb_id', how='left')\n"
     ]
    },
    {
     "data": {
      "text/html": [
       "<div>\n",
       "<style scoped>\n",
       "    .dataframe tbody tr th:only-of-type {\n",
       "        vertical-align: middle;\n",
       "    }\n",
       "\n",
       "    .dataframe tbody tr th {\n",
       "        vertical-align: top;\n",
       "    }\n",
       "\n",
       "    .dataframe thead th {\n",
       "        text-align: right;\n",
       "    }\n",
       "</style>\n",
       "<table border=\"1\" class=\"dataframe\">\n",
       "  <thead>\n",
       "    <tr style=\"text-align: right;\">\n",
       "      <th></th>\n",
       "      <th>Unnamed: 0_x</th>\n",
       "      <th>tmdb_id</th>\n",
       "      <th>series</th>\n",
       "      <th>cast_ids</th>\n",
       "      <th>genres_ids</th>\n",
       "      <th>seasons</th>\n",
       "      <th>episodes</th>\n",
       "      <th>episode_run_time</th>\n",
       "      <th>synopsis</th>\n",
       "      <th>pop series</th>\n",
       "      <th>...</th>\n",
       "      <th>known_for_department</th>\n",
       "      <th>pop actor</th>\n",
       "      <th>headshot</th>\n",
       "      <th>birthday</th>\n",
       "      <th>birth_yr</th>\n",
       "      <th>birth_month</th>\n",
       "      <th>birth_weekday</th>\n",
       "      <th>Unnamed: 0_y</th>\n",
       "      <th>genre_tmdb_id</th>\n",
       "      <th>genre</th>\n",
       "    </tr>\n",
       "  </thead>\n",
       "  <tbody>\n",
       "    <tr>\n",
       "      <th>0</th>\n",
       "      <td>0</td>\n",
       "      <td>208249</td>\n",
       "      <td>Game of Witches</td>\n",
       "      <td>582555</td>\n",
       "      <td>18</td>\n",
       "      <td>1.0</td>\n",
       "      <td>29.0</td>\n",
       "      <td>30.0</td>\n",
       "      <td>Yu Kyung is a successful woman who is proficie...</td>\n",
       "      <td>414.151</td>\n",
       "      <td>...</td>\n",
       "      <td>Acting</td>\n",
       "      <td>1.934</td>\n",
       "      <td>https://image.tmdb.org/t/p/original/zxjXig4bOT...</td>\n",
       "      <td>1972-01-05</td>\n",
       "      <td>1972.0</td>\n",
       "      <td>1.0</td>\n",
       "      <td>2.0</td>\n",
       "      <td>0</td>\n",
       "      <td>18</td>\n",
       "      <td>Drama</td>\n",
       "    </tr>\n",
       "  </tbody>\n",
       "</table>\n",
       "<p>1 rows × 37 columns</p>\n",
       "</div>"
      ],
      "text/plain": [
       "   Unnamed: 0_x  tmdb_id           series  cast_ids  genres_ids  seasons  \\\n",
       "0             0   208249  Game of Witches    582555          18      1.0   \n",
       "\n",
       "   episodes  episode_run_time  \\\n",
       "0      29.0              30.0   \n",
       "\n",
       "                                            synopsis  pop series  ...  \\\n",
       "0  Yu Kyung is a successful woman who is proficie...     414.151  ...   \n",
       "\n",
       "   known_for_department  pop actor  \\\n",
       "0                Acting      1.934   \n",
       "\n",
       "                                            headshot    birthday birth_yr  \\\n",
       "0  https://image.tmdb.org/t/p/original/zxjXig4bOT...  1972-01-05   1972.0   \n",
       "\n",
       "   birth_month  birth_weekday  Unnamed: 0_y  genre_tmdb_id  genre  \n",
       "0          1.0            2.0             0             18  Drama  \n",
       "\n",
       "[1 rows x 37 columns]"
      ]
     },
     "execution_count": 42,
     "metadata": {},
     "output_type": "execute_result"
    }
   ],
   "source": [
    "#merging the genre table onto the previoiusly merged table. So the orders is series, networks, people, genres - i don't know what that's the order\n",
    "#elated that the merges finally worked but this table is unreadable and confusing as is. I probably should have changed the column names before joining or after joining each but I'm just going to tackle them all in one line of mega code\n",
    "\n",
    "left_merge_plus_people_genre = pd.merge(left_merge_plus_people, genre, left_on='genres_ids', right_on='genre_tmdb_id', how='left')\n",
    "left_merge_plus_people_genre.head(1)"
   ]
  },
  {
   "cell_type": "markdown",
   "metadata": {},
   "source": [
    "before going back and renaming columns pre-merge, it was a mess - original output for: left_merge_plus_people_genre.columns was the below:\n",
    "\n",
    "Index(['Unnamed: 0_x', 'tmdb_id', 'series', 'cast_ids', 'genres_ids',\n",
    "       'seasons', 'episodes', 'episode_run_time', 'synopsis', 'pop series',\n",
    "       'average_rating', 'rating_count', 'next_episode_to_air', 'networks_ids',\n",
    "       'air_dt', 'air_yr', 'air_month', 'air_weekday', 'Unnamed: 0_y',\n",
    "       'network_tmbd_id', 'network', 'Unnamed: 0_x', 'actor_tmdb_id', 'actor',\n",
    "       'place_of_birth', 'deathday', 'sex', 'known_for_department',\n",
    "       'pop actor', 'headshot', 'birthday', 'birth_yr', 'birth_month',\n",
    "       'birth_weekday', 'Unnamed: 0_y', 'genre_tmdb_id', 'genre'],\n",
    "      dtype='object')\n"
   ]
  },
  {
   "cell_type": "code",
   "execution_count": 43,
   "metadata": {},
   "outputs": [
    {
     "data": {
      "text/plain": [
       "Index(['Unnamed: 0_x', 'tmdb_id', 'series', 'cast_ids', 'genres_ids',\n",
       "       'seasons', 'episodes', 'episode_run_time', 'synopsis', 'pop series',\n",
       "       'average_rating', 'rating_count', 'next_episode_to_air', 'networks_ids',\n",
       "       'air_dt', 'air_yr', 'air_month', 'air_weekday', 'Unnamed: 0_y',\n",
       "       'network_tmbd_id', 'network', 'Unnamed: 0_x', 'actor_tmdb_id', 'actor',\n",
       "       'place_of_birth', 'deathday', 'sex', 'known_for_department',\n",
       "       'pop actor', 'headshot', 'birthday', 'birth_yr', 'birth_month',\n",
       "       'birth_weekday', 'Unnamed: 0_y', 'genre_tmdb_id', 'genre'],\n",
       "      dtype='object')"
      ]
     },
     "execution_count": 43,
     "metadata": {},
     "output_type": "execute_result"
    }
   ],
   "source": [
    "#looking at this mess of column names I've created\n",
    "\n",
    "left_merge_plus_people_genre.columns"
   ]
  },
  {
   "cell_type": "code",
   "execution_count": 50,
   "metadata": {},
   "outputs": [
    {
     "data": {
      "text/html": [
       "<div>\n",
       "<style scoped>\n",
       "    .dataframe tbody tr th:only-of-type {\n",
       "        vertical-align: middle;\n",
       "    }\n",
       "\n",
       "    .dataframe tbody tr th {\n",
       "        vertical-align: top;\n",
       "    }\n",
       "\n",
       "    .dataframe thead th {\n",
       "        text-align: right;\n",
       "    }\n",
       "</style>\n",
       "<table border=\"1\" class=\"dataframe\">\n",
       "  <thead>\n",
       "    <tr style=\"text-align: right;\">\n",
       "      <th></th>\n",
       "      <th>tmdb_id</th>\n",
       "      <th>series</th>\n",
       "      <th>network</th>\n",
       "      <th>genre</th>\n",
       "      <th>seasons</th>\n",
       "      <th>episodes</th>\n",
       "      <th>episode_run_time</th>\n",
       "      <th>synopsis</th>\n",
       "      <th>pop series</th>\n",
       "      <th>average_rating</th>\n",
       "      <th>...</th>\n",
       "      <th>known_for_department</th>\n",
       "      <th>sex</th>\n",
       "      <th>pop actor</th>\n",
       "      <th>place_of_birth</th>\n",
       "      <th>birthday</th>\n",
       "      <th>birth_yr</th>\n",
       "      <th>birth_month</th>\n",
       "      <th>birth_weekday</th>\n",
       "      <th>deathday</th>\n",
       "      <th>headshot</th>\n",
       "    </tr>\n",
       "  </thead>\n",
       "  <tbody>\n",
       "    <tr>\n",
       "      <th>0</th>\n",
       "      <td>208249</td>\n",
       "      <td>Game of Witches</td>\n",
       "      <td>MBC</td>\n",
       "      <td>Drama</td>\n",
       "      <td>1.0</td>\n",
       "      <td>29.0</td>\n",
       "      <td>30.0</td>\n",
       "      <td>Yu Kyung is a successful woman who is proficie...</td>\n",
       "      <td>414.151</td>\n",
       "      <td>NaN</td>\n",
       "      <td>...</td>\n",
       "      <td>Acting</td>\n",
       "      <td>1.0</td>\n",
       "      <td>1.934</td>\n",
       "      <td>Seoul, South Korea</td>\n",
       "      <td>1972-01-05</td>\n",
       "      <td>1972.0</td>\n",
       "      <td>1.0</td>\n",
       "      <td>2.0</td>\n",
       "      <td>NaN</td>\n",
       "      <td>https://image.tmdb.org/t/p/original/zxjXig4bOT...</td>\n",
       "    </tr>\n",
       "    <tr>\n",
       "      <th>1</th>\n",
       "      <td>208249</td>\n",
       "      <td>Game of Witches</td>\n",
       "      <td>MBC</td>\n",
       "      <td>Drama</td>\n",
       "      <td>1.0</td>\n",
       "      <td>29.0</td>\n",
       "      <td>30.0</td>\n",
       "      <td>Yu Kyung is a successful woman who is proficie...</td>\n",
       "      <td>414.151</td>\n",
       "      <td>NaN</td>\n",
       "      <td>...</td>\n",
       "      <td>Acting</td>\n",
       "      <td>1.0</td>\n",
       "      <td>3.816</td>\n",
       "      <td>Seoul, South Korea</td>\n",
       "      <td>1988-07-26</td>\n",
       "      <td>1988.0</td>\n",
       "      <td>7.0</td>\n",
       "      <td>1.0</td>\n",
       "      <td>NaN</td>\n",
       "      <td>https://image.tmdb.org/t/p/original/dPwD92f7iw...</td>\n",
       "    </tr>\n",
       "    <tr>\n",
       "      <th>2</th>\n",
       "      <td>208249</td>\n",
       "      <td>Game of Witches</td>\n",
       "      <td>MBC</td>\n",
       "      <td>Drama</td>\n",
       "      <td>1.0</td>\n",
       "      <td>29.0</td>\n",
       "      <td>30.0</td>\n",
       "      <td>Yu Kyung is a successful woman who is proficie...</td>\n",
       "      <td>414.151</td>\n",
       "      <td>NaN</td>\n",
       "      <td>...</td>\n",
       "      <td>Acting</td>\n",
       "      <td>2.0</td>\n",
       "      <td>3.471</td>\n",
       "      <td>Seoul, South Korea</td>\n",
       "      <td>1982-06-02</td>\n",
       "      <td>1982.0</td>\n",
       "      <td>6.0</td>\n",
       "      <td>2.0</td>\n",
       "      <td>NaN</td>\n",
       "      <td>https://image.tmdb.org/t/p/original/kbNyaREVYR...</td>\n",
       "    </tr>\n",
       "    <tr>\n",
       "      <th>3</th>\n",
       "      <td>208249</td>\n",
       "      <td>Game of Witches</td>\n",
       "      <td>MBC</td>\n",
       "      <td>Crime</td>\n",
       "      <td>1.0</td>\n",
       "      <td>29.0</td>\n",
       "      <td>30.0</td>\n",
       "      <td>Yu Kyung is a successful woman who is proficie...</td>\n",
       "      <td>414.151</td>\n",
       "      <td>NaN</td>\n",
       "      <td>...</td>\n",
       "      <td>Acting</td>\n",
       "      <td>1.0</td>\n",
       "      <td>1.934</td>\n",
       "      <td>Seoul, South Korea</td>\n",
       "      <td>1972-01-05</td>\n",
       "      <td>1972.0</td>\n",
       "      <td>1.0</td>\n",
       "      <td>2.0</td>\n",
       "      <td>NaN</td>\n",
       "      <td>https://image.tmdb.org/t/p/original/zxjXig4bOT...</td>\n",
       "    </tr>\n",
       "    <tr>\n",
       "      <th>4</th>\n",
       "      <td>208249</td>\n",
       "      <td>Game of Witches</td>\n",
       "      <td>MBC</td>\n",
       "      <td>Crime</td>\n",
       "      <td>1.0</td>\n",
       "      <td>29.0</td>\n",
       "      <td>30.0</td>\n",
       "      <td>Yu Kyung is a successful woman who is proficie...</td>\n",
       "      <td>414.151</td>\n",
       "      <td>NaN</td>\n",
       "      <td>...</td>\n",
       "      <td>Acting</td>\n",
       "      <td>1.0</td>\n",
       "      <td>3.816</td>\n",
       "      <td>Seoul, South Korea</td>\n",
       "      <td>1988-07-26</td>\n",
       "      <td>1988.0</td>\n",
       "      <td>7.0</td>\n",
       "      <td>1.0</td>\n",
       "      <td>NaN</td>\n",
       "      <td>https://image.tmdb.org/t/p/original/dPwD92f7iw...</td>\n",
       "    </tr>\n",
       "  </tbody>\n",
       "</table>\n",
       "<p>5 rows × 27 columns</p>\n",
       "</div>"
      ],
      "text/plain": [
       "   tmdb_id           series network  genre  seasons  episodes  \\\n",
       "0   208249  Game of Witches     MBC  Drama      1.0      29.0   \n",
       "1   208249  Game of Witches     MBC  Drama      1.0      29.0   \n",
       "2   208249  Game of Witches     MBC  Drama      1.0      29.0   \n",
       "3   208249  Game of Witches     MBC  Crime      1.0      29.0   \n",
       "4   208249  Game of Witches     MBC  Crime      1.0      29.0   \n",
       "\n",
       "   episode_run_time                                           synopsis  \\\n",
       "0              30.0  Yu Kyung is a successful woman who is proficie...   \n",
       "1              30.0  Yu Kyung is a successful woman who is proficie...   \n",
       "2              30.0  Yu Kyung is a successful woman who is proficie...   \n",
       "3              30.0  Yu Kyung is a successful woman who is proficie...   \n",
       "4              30.0  Yu Kyung is a successful woman who is proficie...   \n",
       "\n",
       "   pop series  average_rating  ...  known_for_department  sex pop actor  \\\n",
       "0     414.151             NaN  ...                Acting  1.0     1.934   \n",
       "1     414.151             NaN  ...                Acting  1.0     3.816   \n",
       "2     414.151             NaN  ...                Acting  2.0     3.471   \n",
       "3     414.151             NaN  ...                Acting  1.0     1.934   \n",
       "4     414.151             NaN  ...                Acting  1.0     3.816   \n",
       "\n",
       "       place_of_birth    birthday  birth_yr birth_month birth_weekday  \\\n",
       "0  Seoul, South Korea  1972-01-05    1972.0         1.0           2.0   \n",
       "1  Seoul, South Korea  1988-07-26    1988.0         7.0           1.0   \n",
       "2  Seoul, South Korea  1982-06-02    1982.0         6.0           2.0   \n",
       "3  Seoul, South Korea  1972-01-05    1972.0         1.0           2.0   \n",
       "4  Seoul, South Korea  1988-07-26    1988.0         7.0           1.0   \n",
       "\n",
       "   deathday                                           headshot  \n",
       "0       NaN  https://image.tmdb.org/t/p/original/zxjXig4bOT...  \n",
       "1       NaN  https://image.tmdb.org/t/p/original/dPwD92f7iw...  \n",
       "2       NaN  https://image.tmdb.org/t/p/original/kbNyaREVYR...  \n",
       "3       NaN  https://image.tmdb.org/t/p/original/zxjXig4bOT...  \n",
       "4       NaN  https://image.tmdb.org/t/p/original/dPwD92f7iw...  \n",
       "\n",
       "[5 rows x 27 columns]"
      ]
     },
     "execution_count": 50,
     "metadata": {},
     "output_type": "execute_result"
    }
   ],
   "source": [
    "#creating a new df, dropping columns and rearranging columns because now it contains all the rows i want\n",
    "    #probably won't need the id column any longer but keeping it for peace of mind. with exploding all of the rows, there are so many more now and \n",
    "    #just want to be able to easily that there aren't mistakes\n",
    "    #also, its possible some actors will have the same names, so keeping at least one row of ids seems good\n",
    "\n",
    "k_dramas = left_merge_plus_people_genre[['tmdb_id', 'series', 'network', 'genre', 'seasons', 'episodes', 'episode_run_time', 'synopsis', 'pop series',\n",
    "       'average_rating', 'rating_count', 'next_episode_to_air',\n",
    "       'air_dt', 'air_yr', 'air_month', 'air_weekday',  'actor', 'known_for_department',\n",
    "       'sex', 'pop actor', 'place_of_birth',  \n",
    "        'birthday', 'birth_yr', 'birth_month',\n",
    "       'birth_weekday', 'deathday', 'headshot']]\n",
    "\n",
    "k_dramas.head()"
   ]
  },
  {
   "cell_type": "code",
   "execution_count": 45,
   "metadata": {},
   "outputs": [
    {
     "data": {
      "text/plain": [
       "(27871, 28)"
      ]
     },
     "execution_count": 45,
     "metadata": {},
     "output_type": "execute_result"
    }
   ],
   "source": [
    "k_dramas.shape"
   ]
  },
  {
   "cell_type": "markdown",
   "metadata": {},
   "source": [
    "***"
   ]
  },
  {
   "cell_type": "markdown",
   "metadata": {
    "azdata_cell_guid": "dedc0bfe-17d0-40b2-914f-2ddb54f9ce0d"
   },
   "source": [
    "<h1 style=\"background-color:gray; color:White; text-align:leftr\">Summarize Your Results</h1>\n",
    "\n",
    "Make note of your answers to the following questions.\n",
    "\n",
    "1. Did your data require further manipulation after cleaning?\n",
    "    * Yes\n",
    "    * I chose to convert some object columns to numerical data type, then split and explode the cells with multiple values. Then, finally, I merged the three data frames onto the series table and edited columns\n",
    "\n",
    "2. Did the process of manipulating your data give you new insights into your dataset?\n",
    "    * Yes! \n",
    "    * There were columns that I held onto that I was able to give up to increase the readability of the data. and i had to drop columns that were formed as new key columns in merges.\n",
    "    \n",
    "3. Is there anything you would like to make note of when it comes to modeling the data and making visualizations?\n",
    "    * I'm not sure how this is gonna go ... :O"
   ]
  },
  {
   "cell_type": "code",
   "execution_count": 51,
   "metadata": {},
   "outputs": [],
   "source": [
    "k_dramas.to_csv(\"k_dramas.csv\")"
   ]
  },
  {
   "cell_type": "code",
   "execution_count": 52,
   "metadata": {},
   "outputs": [
    {
     "name": "stdout",
     "output_type": "stream",
     "text": [
      " Volume in drive C is Windows-SSD\n",
      " Volume Serial Number is 7EB9-A76C\n",
      "\n",
      " Directory of C:\\Users\\Super\\Desktop\\Women+22\\graded4\\K-Dramas\\cleaning-data-checkpoint\n",
      "\n",
      "03/06/2023  10:21 PM    <DIR>          .\n",
      "03/06/2023  10:21 PM    <DIR>          ..\n",
      "12/28/2022  09:25 PM                23 .gitignore\n",
      "03/04/2023  03:04 PM    <DIR>          .ipynb_checkpoints\n",
      "03/05/2023  11:52 PM           811,914 checkpoint-three.ipynb\n",
      "03/05/2023  11:45 PM               277 genre.csv\n",
      "01/04/2023  04:38 PM               241 genres - Copy.csv\n",
      "03/06/2023  10:31 PM        15,554,114 k_dramas.csv\n",
      "03/06/2023  10:04 PM            90,608 manipulation.ipynb\n",
      "03/05/2023  11:45 PM             1,299 network_cleaned.csv\n",
      "01/04/2023  04:38 PM             8,258 networks - Copy.csv\n",
      "01/04/2023  04:38 PM           579,685 people - Copy.csv\n",
      "03/05/2023  11:45 PM           456,442 people_cleaned.csv\n",
      "01/04/2023  04:38 PM            19,189 production_companies - Copy.csv\n",
      "01/04/2023  04:38 PM         1,011,711 series - Copy.csv\n",
      "03/05/2023  11:45 PM           742,597 series_cleaned.csv\n",
      "              13 File(s)     19,276,358 bytes\n",
      "               3 Dir(s)  288,746,356,736 bytes free\n"
     ]
    }
   ],
   "source": [
    "%ls"
   ]
  },
  {
   "cell_type": "code",
   "execution_count": null,
   "metadata": {},
   "outputs": [],
   "source": []
  }
 ],
 "metadata": {
  "kernelspec": {
   "display_name": "Python 3 (ipykernel)",
   "language": "python",
   "name": "python3"
  },
  "language_info": {
   "codemirror_mode": {
    "name": "ipython",
    "version": 3
   },
   "file_extension": ".py",
   "mimetype": "text/x-python",
   "name": "python",
   "nbconvert_exporter": "python",
   "pygments_lexer": "ipython3",
   "version": "3.9.13"
  },
  "toc-autonumbering": true,
  "toc-showmarkdowntxt": false
 },
 "nbformat": 4,
 "nbformat_minor": 4
}
